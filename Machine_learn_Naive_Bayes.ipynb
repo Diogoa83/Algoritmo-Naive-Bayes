{
  "cells": [
    {
      "cell_type": "markdown",
      "metadata": {
        "id": "view-in-github",
        "colab_type": "text"
      },
      "source": [
        "<a href=\"https://colab.research.google.com/github/Diogoa83/Algoritmo-Naive-Bayes/blob/main/Machine_learn_Naive_Bayes.ipynb\" target=\"_parent\"><img src=\"https://colab.research.google.com/assets/colab-badge.svg\" alt=\"Open In Colab\"/></a>"
      ]
    },
    {
      "cell_type": "markdown",
      "source": [
        "![image.png](data:image/png;base64,iVBORw0KGgoAAAANSUhEUgAABDgAAAKeCAIAAADP5zwRAAAgAElEQVR4nOzdXWxc95nn+ed/XuoUq0oUKYVmyS2Gsi2OHBttm2mnvWk07e7d6ewyWSSzm5YvDdjADDqYjW56b1rAdgZ7oRnMTN84E2zvDiADBhZY2DMXYyAjTAJMR1YjWXvckeVpO1bTb1q5LVI0VXyp9zove3FkmiKrilXkea3z/aCRlorFc54wYrF+fP7P/69+/ycXBQAAAACSRIu7AAAAAADYjaACAAAAIHEIKgAAAAASh6ACAAAAIHEIKgAAAAASh6ACAAAAIHEIKgAAAAASh6ACAAAAIHEIKgAAAAASh6ACAAAAIHEIKgAAAAASh6ACAAAAIHEIKgAAAAASh6ACAAAAIHEIKgAAAAASh6ACAAAAIHEIKgAAAAASh6ACAAAAIHEIKgAAAAASh6ACAAAAIHGMuAsAABzQnF55wrg9b9wua7WT7p2OIx3Ha9me64mI1CX3iUzekMn3ZPo9ma5LLpvFzOkV/8GO49muNDveHdv80I2uGADAwajf/8nFuGsAAAyhpNqLuY+fta6XtVrXJzQ6XrXltWxv54NvycxlefAtmQm8mGetv1vMfZSKYrpWFVIxAIBDIqgAQGqUVPvc2K8Xcx8P8uSW7W02dyeEVSn9e3nssjyY5WJ2VrXe8DqOF2wxAIBAEFQAIB3OWtdfyP9tSbWH+qxGx6vUXfeegCDvyfTL8uQNmcxyMds2m95m0w2qGABAUPSvfud7cdcAAOinpNr/uvSLf2R9kFPOsJ9r6qpoaU1bdsaDKan9Q1mqS+4D+Upmi9lmGcoyVLPjeYcrBgAQLIIKACTanF556ch/mtU3D3wFpaRkKceVzr1v5h+Xz6akNtRsxogVs83QVN5UjY7nHbQYAEDgCCoAkFxzeuXF0n8+8KKmncbMLvHglFQekZW3ZKYjemaL8en3ZpWhigEAhIGgAgAJFfh78a7xYEpqvyWbv5JTWS7GtyurDFgMACAkBBUASKKyVvs/j/w88PfiXePB/bLZf6VTForx6ZrSNdXoeAMWAwAIDyfTA0ASXSheCem9+GRBM3W168Fn5MNn5KOMF+Mr5NSY+WVJ/YsBAISHoAIAifNC/m+3z1MPw1eKmrY7Hchz8taUdDknMVPF+CYL95TUqxgAQKgIKgCQLGWt9nz+v4Z6C12TycLu1/+CtJ+TtzJejE9TMjH2ZUldiwEAhI2gAgDJcm7s1xHcZcy8Z4GT70m5+YisJLaYFyJJKb5CThk7fkLuLQYAEDaCCgAkSFmrLZifRnOvXQucfN+XdxJbzGLu42iK8Y3n7/kRubMYAEAECCoAkCBRNg00tfu9uIg8Iivb8xiZLca3q6mysxgAQAQIKgCQIAvm30d5u5J1z3tx36L8RkRKqp2cYiTyr4yvZN1T0HYxAIAIEFQAICkWzE9D3Xi3q719jCflUxGZN24np5hYvjIiUsjdsxzNLwYAEA2CCgAkRWQDITvtWuAkIlNSnZUKxYiIpmTnlL9fTCyVAEAGEVQAIClO6+ux3HdvH+OUVCjGt2s7slMEFQCICkEFAJIigqMMuyrk1K4dt2blDsX48vcGlVm5E1clAJA1BBUASIQY34vLnmGMf6h/FFclkrBiNCWm/mU9LP0CgMgQVAAgEUqqE+Pdj9y7vRXF7GQZ8d4fADKKoAIAEF0Ty/iyb9CyPYrZtrMYZlQAIDIEFQCAiEgxt+dk+PgkqpidG5EVJIZdkgEgmwgqAACRPVPj8UpUMTtnVOqSi7ESAMgUggoAQGTPmSHxSlQxIrK9EdknMhlrIQCQIQQVAEiEqmfGXcI9wxixS1QxO5sqAIBoEFQAIBGWnPh/VZ+oJkaiitl2g44KAESFoAIASRF7VtG1ewbH45WoYrbdkGNxlwAAWZG8HwIAkFUfOBNxl5CsKfZEFeN7T6bjLgEAsoKgAgBJcaVzMu4SkjUZkqhiRGRVSqtSjLsKAMgKggoAJMVV+764S0hWNkhUMcKACgBEi6ACAElR9XKxj6loKkGTIYkqRlj3BQDRStJPAADIvL9OzOovx427DhH5opiO48VdiAhBBQCiRVABgARJwuov/8wQ201ENvCLSUItdcmx9AsAokRQAYAESUZQibuCHRJSjOvRTgGAqBFUACBZYs8qiRphT0gxHccjqABAxAgqAJAsb9vxvyFO1Ah7QoohqABAxJLx8g8A+ELsHRUR0bVE9DF8sRfjegyoAEAMCCoAkCxX7fuqXi7eGhKy4MoXezGs+wKAWBBUACBxYm+qxN3DuEcSiiGoAED0CCoAkDixB5WE7LXli72YjsOZ9AAQA4IKACTO23EHFUNTSTi6xBd7MexNDACxIKgAQOIsOZPxjqnomnScGO9/j9iLib3BBQDZRFABgCSK/c1xQjYF9sVbzPuKdgoAxCBJP4gAAF+IPajkzQTMsH8h3mLe9QgqABADggoAJNGVzsl4C0jCXlvb4i0m9tAIANlEUAGAJFp2i8tuMe4qQEoBgNgQVAAgoXiLnARv26z7AoB4EFQAIKGu8hY5AYiLABAXggoAJBRvkZOA/xUAIC4EFQBIKMZUYkdKAYAYEVQAILl4oxyvD5zJuEsAgOwiqABAcsW+SXHGERQBIEYEFQBILt4ox4uvPwDEiKACAMlV9XJLrD6KyZIzWfVycVcBANlFUAGARHubX+rHhK88AMSLoAIAicbqo7jwlQeAeBFUACDReLsci5bt8ZUHgHgRVAAg0RhTiZjjymrVbU1+/dUnJy6cyS9OGXFXBAAZpX/1O9+LuwYAQD/Htea8cTvuKkaf48pGw71Tdx1Xxmd+pzA2PjumLRwznj1hHs+pGw236sRdIgBkCR0VAEg61iCFzXGlUndvbTq1tuc/Yo3fv/3RkqHOnjBf/Xrh/GmrZKiYagSAzCGoAEDSEVTCszeiiIhZPN71yYtTxqvzYy/MsGcxAESBoAIAKUBWCVzL9tZquyOKb2c7ZZeSoZ4/aV58bGyuyA9QAAgXr7MAkAJv29NxlzAiXE+qLW9501mtuo3O7oji6xNUfHNF7eJjY2dPmCEUCAC4i6ACAClAR+XwGh2vUnc/23DWG67t9nvmvkHFd+5U7sKZPFMrABASggoApMBV+76qx2jEQXQcb73hLm86azV37yqvvczicc0Y9Eu9cEx/8RGyCgCEgqACAOlAU2Uo2/lkZcuttrz+LZSdBmynbJsraq/OM7ICAMHjhRUA0oGgsi/Xu7u+6wD5ZNuwQUVESoZ68ZE8WQUAgsWrKgCkw9sElR46jrfZ9Far7mcbd9d3HSCfbDtAUBGyCgCEgJdUAEiHJWeSMZVtLdvbbHprNfezDWdly91sui17//mTfQ01oLKLn1XKFvMqABAMggoApEaWV391HK/e9tYb7mrV/XTdWa26m0230fHcAOLJlw7WTtlWMhT7gAFAUAgqAJAa2Qkqrict26u2vkwmK1vunbpbbXmBdE56yfU4k35wc0XtwhkrkGIAIOMIKgCQGlc6J+MuIRQdx/OXcvmx5LMN57MNZ7XqrjdCTya7HLKj4psf18+dYpEeAByWEXcBAIBBLbvFD5uFk0ZNRDQlpp6mJUaOK7briUjLFhHpOJ7r3f3PhDCsI7p1JJBLnT1hXt10rtxxArkaAGQTQQUA0uT/bd73jHy485GdicXQRNd2/rn70wK0K2n4IUREXM/rOP4fpOMkJov0FUg7Zdv5h6yzm41qhO0gABgxBBUASJPfyPSuoOKPc/h/bomIDP3OeN8Mk6KwcRjW0RMBXq1kqPMPWeevNwO8JgBkCkEFANLkPZkO/Jo7o06WBdtREZGFY/rCMZ0FYABwMAQVAEiTVSmuSmlKqnEXMmoCHFDZKb0LwOq3/t5uNuKuAkCmsesXAKRMGE0VBN5O8ZUM9ewJM4wrA8DII6gAQMq8JaO5SXG8gh1Q2en5kybH1QPAAbD0CwDiVDLUXEE7XdSODHyceUFmxuXJUKvKoJA6Kr4XZnIXPmiFd30AGEkEFQCIQdlSz54wnxjX54oH6GybIr8TfE0IzeKUcfFme7mVvkkVAIgRQQUAIjU/rj8/Y86P63EXgkjRVAGAYRFUACAiJUOdO5VbnOKFN4toqgDAsPh5CQBRmCtqLz6SLw08iILRE15T5YVvzAd+zV9e0968/neBXxYABkdQAYDQLU4Z509bcVeBmC1OGS9+0g7jTJXnv/FE4Ndsrd8hqACIF9sTA0C4SCnYxpkqADA4ggoAhGiuqJFSsI0JJQAYHEEFAMJSMtSLj+TjrgIJUrYUG74BwIAIKgAQlvMPWUzPY5fF+2iqAMBACCoAEIr5cX3hGL87x24Lk/yrAICBEFQAIBTPzzA2jS5KhiLBAsAgCCoAELy5osYoAnpZOMbqLwDYH0EFAILH5k7og9VfADAIggoABI9fmaMPVn8BwCAIKgAQsLKlyhabfaEfVgYCwL74nR8ABOyExe+AsI+FY0bVCe5y7ZrkisFdDgASgaACAAGbP8ovy7GPsqWePxncvnDtOkEFwOjh134AEDDHDvBX5QAAZBRBBQAC1qi3PNeLuwoAANKNoAIAwWs223GXAABAuhFUACB4zXoz7hIAAEg3ggoABGzVVu1Wp93qxF0IAAApRlABgIDddpSIbG3U4i4EAIAUI6gAQMDebWoiYnfs2lY97loAAEgrggoABO/Nhi4i1c16o96KuxYAAFKJoAIAwfsv9btnPm5WtsgqAAAcAEEFAIL3ZkOrucr/82Zlq15txFsPAACpQ1ABgODVXPXTLWP7r1sbtc1KlVMgAQAYHEEFAELx0y19u6kiIo16c+32OnsWAwAwIIIKAISi5qqfrJk7H3Ecp/L5xvrapuO4cVUFAEBaEFQAICxvNvRf1PRdD7aa7c+X72xWqsQVAAD6IKgAQIj+zVruk3aXV9pGvenHFRaDAQDQFUEFAML1o9vds4qINOrNyucbny9X6tUGDRYAAHYiqABAuGqu+tHtnH8EZFeO42xt1D5fvrN2e53EAgCAj6ACAKGruepfruZe2TD7P83u2H5i+Xy5srVRazXbhBYAQGYZ+z8FABCEVzaMX9T0f3q8/ai1T/xwHKdebfjHROq6bpi6mTPMnGmahtJU/88FAGA0EFQAIDq3bfWjFevRvPuHRfsPis4gn+I4juM4rWbb/6vSlGkahmlomjJzpojkrH0aNQAApBFBBQCi9m5Te7eZe6niPWq5j+bdUzn3lOkVtYHOrfdcr93q7N0rzI8uSikzZ2w/opTSDV3XWeULAEgfggoAxOP+Mf2/mbKeGNfnigQJAAB2I6gAQKRKhlqcMp49YZYtpk0AAOiJoAIA0VmcMs6dypUMIgoAAPsgqABAFEqGOv+QtXCs52kqAABgJ4IKAIRurqj92UMWsygAAAyOoAIA4Zorai8+kme5FwAAQ+HXewAQopKhSCkAABwAQQUAQnThjEVKAQDgAAgqABCWF2Zy8+NMzwMAcBAEFQAIRdlSZ8vMAQIAcEAEFQAIxQsznJcCAMDBEVQAIHj+8fNxVwEAQIoRVAAgeKQUAAAOiaACAMEjqAAAcEgEFQAIHofQAwBwSPwoBYCAsSUxAACHR1ABgICdpp0CAMCh8dMUAAJ2hF2JAQA4NIIKAATMsZ24SwAAIPUIKgAQsEa95ble3FUAAJBuBBUACF6z2Y67BAAA0o2gAgDBa9abcZcAAEC6EVQAIGCrtmq3Ou1WJ+5CAABIMYIKAATstqNEZGujFnchAACkGEEFAAL2blMTEbtj17bqcdcCAEBaEVQAIHhvNnQRqW7WG/VW3LUAAJBKBBUACN5/qev+HzYrW2QVAAAOgKACAMF7s6HV3Lvn029WturVRrz1AACQOgQVAAhezVU/3TK2/7q1UdusVDkFEgCAwRFUACAUP93St5sqItKoN9dur7NnMQAAAyKoAEAoaq76yZq58xHHcSqfb6yvbTqOG1dVAACkBUEFAMLyZkP/RU3f9WCr2f58+c5mpUpcAQCgD4IKAITo36zlPml3eaVt1Jt+XGExGAAAXRFUACBcP7rdPauISKPerHy+8flypV5t0GABAGAnggoAhKvmqh/dzvlHQHblOM7WRu3z5Ttrt9dJLAAA+AgqABC6mqv+5WrulQ2z/9Psju0nls+XK1sbtVazTWgBAGSWsf9TAABBeGXD+EVN/6fH249a+8QPx3Hq1YZ/TKSu64apmznDzJmmaShN9f9cIBDNWtWu1+KuAkCmEVQAIDq3bfWjFevRvPuHRfsPis4gn+I4juM4rWbb/6vSlGkahmlomjJzpojkrH0aNQAApBFBBQCi9m5Te7eZe6niPWq5j+bdUzn3lOkVtYHOrfdcr93q7N0rzI8uSikzZ2w/opTSDV3XWeULAEgfggoAxKPmqjcb+psNfXHKmDlmTheJEwAAfImgAgCxWTimnztllS3GTgAA2I2gAgAxKBnq/EPWwrGeexYDAJBxBBUAiFrZUhfO5OdY6wUAQG8EFQCI1FxRe/GRfMlguRcAAP3w+zwAiE7JUH/2kEVKAQBgXwQVAIjOhTMWK74AABgEPy8BICJnT5jz40zPAwAwEIIKAEShZKgXTnKEPAAAgyKoAEAUnj1hMpoCAMDgCCoAEIWzZXZZBABgCAQVAAjdwjGddgoAAEMhqABA6BaO0U4BAGA4BBUACB2bfQEAMCyCCgCErmyx7gsAgOEQVAAgXJzwCADAAfDjEwDClXPsRr0VdxUAAKQMQQUAQtdpdeIuAQCAlCGoAEDomk06KgAADIegAgDhWvN0z/VY/QUAwFAIKgAQruWWpzRV26x7rhd3LQAApAZBBQBC97cN5TjO1kYt7kIAAEgNggoAhO6mY4hIo95kARgAAAMiqABA6P7z1t2T6TcrW2QVAAAGQVABgNB91JI1Mfw/k1UAABgEQQUAovD/rH35ertZ2dqsVJmtBwCgD4IKAEThr2r6dlNFRBr15p3PN+yOHWNJAAAkGUEFACLy41Vj51/tjr12e31ro0ZrBQCAvQgqABCRv22oVzbMXQ/Wq43VlTu1LU5ZAQDgHgQVAIjOKxvGmw1914Oe61U368QVAAB2IqgAQKR+smZ+0u7y2uvHldu31jYr1VazHX1hAAAkCkEFACJVc9WPbufebfV8+W3Um+trm58vV7Y2akzbAwAyi6ACAFGruepHK9ZPt4w+z3Ecp15trN1e93ssjXrLcdzIKgQAIHb9fkwCAMLzUsV8s6H/L8faU0a/uRTP9Rr1ZqPeFBFd13OWaZi6YRo5a/dcPgAAo4SgAgCxebep/eCz/B8WnWePdvrHFZ/jOI26s/1XwzR0XTNzhmEaSimiCwBglBBUACBmf1XT/6qmn8q5f1h0HrXcU7lBl3jZHdvuyM7Je6Up0zRExA8tmq7ruiYimqYMkxd8AECa8HMLABLhk7b20he7gf3gt7T/4St6SVdBXdx1vXar4/+ZxgsAIBUIKgCQIItTxgszubIVWEQBACClCCoAkAhlS50/bc2P7z4OEgCAbCKoAED8Fo7p5x+ySgaNFAAA7iKoAEDMFqeM86etuKsAACBZOPARAOI0P66TUgAA2IugAgCxKVvqwhlSCgAAXRBUACA2508zlwIAQHcEFQCIx8IxnT2+AADohaACAPF4/mQu7hIAAEguggoAxGCuqM0VeQUGAKAnfkwCQAwWp9gdHgCAfggqABCDhWMEFQAA+iGoAEDUSoYqW2z2BQBAPwQVAIjaXIHXXgAA9sEPSwAAAACJQ1ABgKidZr8vAAD2wzQnAEStantxl4CkeOnTzsWb7UNe5Mr8VCDFAECi8Fs9AIjacougAhGRqu29cqsTdxUAkFAEFQAA4nHx0w7tNQDohaACAFG7uunEXQLit1RzX6WdAgC9MaMCADFYqrlzjNRnWNX2zl9vxl1F1Oo5q5azRKRpmqbj6K5rOk6x3TIdO8C7NE2zaeQ6uu5omqs007F1z813OoV2K8C7AIgAQQUAYnBp1Z4r5uKuArG58GErO6NKjqatlsY3xgqO6h7O83Znqrp5pNk45I3Wx4qrpfGOrnf9qO65x2rVY/Wq7rqHvBGAaPD7PACIwZU7Qf4KGely4YPWlTtZWf63lR/7YKp8p1DqlVJEpGmYNyeO35w87mgHfFviaNqNY1OfHZ3slVJExFHaamn8g6ly0zQPdhcAESOoAEAMllvepVWyShZd+KCVnf/p6znr5sTxPhFlpy1r7NOJ4we4i59S/EVl+z9ZaTeOTZFVgFQgqABAPA5/egZSJ1MpRUT+/uixoZ5fy1nrY8Vh77IxVmgaQwQPv7Uy7F0ARI+gAgDxWG55L33Kpk9ZUbW9c+82M5VSOrrRZyFWL/XBGiM7bVljEXwKgOgRVAAgNhdvtpdqzPWOvqubztmrjaxtS+1oKrLPAjCSCCoAEKdz7zWzs/tTBlVt78IHrXPvNjN4sGO+09G9oXN4cfhNhC176M5kfvhPARA9ggoAxMk/T4O+ykh66dPO2auNTC332mWqujnU803HOdqoD3uX47XqsIlo2MIAxIKgAgAxW6q5595rZm1d0Air2t5Ln3bO/rp+8WY7g42UnfxzSwZ8suk4M+ufH+CQE9OxZ++sDp5V7t+oHP7MFgAR4MBHAIifP2n9wkzubNkoGazRT6srd5wrd+wrFSfj+WSn8ub6eLOxPD7Rf2OuY/XqVHXzwEcx5jud06vLK0cm1scKfZ5WbLemt9bzHdZ9Aemgfv8nF+OuAQBwV9lSL8zkFiZ14kpaVG3v6qY7evlk65MPO7VBmyGDaJrmljW2a1Mv03EK7daRViOo0+IdTfPvsnPDMc1zi+1Wod0iogDpQkcFABJkueVd+KBVMtTCpL5wzJgf10gsSeMv0nt7012qOUs1l70QBpTvdCLICbrrTjRqE41a2DcCEAGCCgAkTtX2Lq3a/hB2yVBzBU1EHpGV78s7w15KM3Jm8SvBlzi6nOaW3drq8njr7uN1mfwL+YNVGfpcQgDAUAgqAJBoVdu7uun8sbzzP8o7Q+/bKiIijTufBFxTts1K5V/IT/8P+eZbMhN3LQAwytj1CwASrSDt/01+foBeCsJTkPafyuXn5K24CwGAUUZHBQCSa06v/O/5y1NS7TjiiriedBwRkY4jLpMRcVuU92el8hfyTF1ycdcCACOIoAIACbWY++hc/q2SaouI1e3Veju3tPz/tL/8T0TjEVn5F/If/0KeuSGTcdcCAKOG7YkBIInO5d86a71/4E9v2eJ60nHvhhnHFTuY3V/RRV1yL8uTl+XBuAsJkl2vuTapF0Cc6KgAQLKUVPv82K8WzJuHuYjfgRm798GOI7YrHfdubqH3EpSCtP9EflmQ9iV5OO5aAmMU2NYMQMwIKgCQICXVfrH48zm9EsbFTV1M/Z70cjexOESXADwnb81K5S/lm3EXAgAjgqACAEkxp1cuFC6XtSCPA+9P10TX7hmA2e66tGwWjA3tGflwSqqM1wNAIPSvfud7cdcAAJA5vfJi8efHtEa8ZeiamLpYhhRzUrKkZEneEEMXTYkIW43tb0pqT8hnv5RTHdHjrgUA0o2gAgDxWzBvXihc9jf4ShSlxNDEMqRg7s4trifElq4mpPmEfLYkUxu7p4QAAEMgqABAzBZzH/2zwl/nlBN3IfvbmVuOWFLMSU4XXRePZsu9JqT5e3LjmtxPVgGAA+NkegCI02Luo/Njv4y7igPSNSnkZCIv0yU5eVSmijKe737kSwYVpP3n8vNZCWVfBADIAoIKAMQm1SllL8uQcUuminLyqEyXZCIvY+bd4ZZsIqsAwGEQVAAgHiOWUnYxdSlZcrwg94/LdCm7nRayCgAcGEEFAGIw2illF1P/stMyVZSSJWaWNsQiqwDAwRBUACBqmUopu1jG3ZmW+8fl2JgUc5lYG0ZWAYADIKgAQKSynFJ20pQUcjI59uXasNFus5BVAGBYBBUAiA4ppSt/bdh0SU4ckWNjMmbGXVA4yCoAMBSCCgBEhJSyL3+/Y38EfyQXhpFVAGBwBBUAiMKcXjmXfyvuKlJj58Kw44WRSiwFaf9AflmQdtyFAEDSEVQAIHRzeuXF4s9LivemBzFmjlpimZXKn8vPySoA0B9BBQDCVdZqpJRA7EosqeZnlbirAIBEI6gAQIhKqn2h8AtSSrC2E8uxsRSfIzkrlT+RX8VdBQAkV2pf4AEgDS4ULs/pTE6Hwp9jKeTEcaXRkWpbbDfumob0jHz4uRT/nTwWdyEAkER0VAAgLOfHfjVvrMRdxejTNSlZUj4i06X0DbF8X955Rj6KuwoASCKCCgCE4qz1/mLuw7iryBZTl8kxKR+RY2NpOj7yT+SXbFgMAHsRVAAgeAvmTTYjjou/JGy6lKYGy5/Lz6ekFncVAJAsBBUACNicXjk/xpB0/HY2WIxk/7grSPtP5RdsWAwAOyX7lRsA0qak2n829ku2+UoOv8FSPiJTRRkz466mt1mpPCd/E3cVAJAgBBUACNL5sV+xzVcyWYYcL8iJI1KyEroe7Bn5cFHej7sKAEgKggoABOaF/DsL5s24q0A/uiYTeSkfkYl8EteDPSdvPSLsFAcAIgQVAAjKvLHyvPVO3FVgIJq6u6NxAsdX/lQuM6wCAEJQAYBAlFT7QuFy3FVgaP74yvFCgk64L0j7T4V/SwBAUAGAIFwoXGaAPr3GTJkqylQxKXHlEVn5Y6E7ByDrCCoAcFgv5N/hBPoRYBkJiivfl3cYVgGQcQQVADgURlNGTHLiCsMqADKOoAIAB1dSbc52HElJiCsFaf9A+NcFILsIKgBwcOfHflXWqnFXgbD4cSXGncGelJucrAIgswgqAHBAC+ZNTk3JAn9nsGNj8RwT+cfyzpTUYrgxAMSNoAIAB1HWaiz6yhQ/rozno44rBWn/qfwi0lsCQDIQVADgIM6P/ZL9iLNGUzJuyXRJxsxI7zsrFXYrBpBBBFKEPBsAACAASURBVBUAGNpZ6332I84sXZPjBZkqiqlHd9PvyzuzUonufgCQAAQVABhOWau9wH7EmWcZMl2SiQhXgv1AfhnRnQAgGQgqADCcc/m3WPQFX8mS8hEp5qK416xU2AEMQKYQVABgCOz0hV00JZNjMlWMYgtjdgADkCkEFQAYFMc7ohfLuLsnWKgK0v4TFoAByAyCCgAM6gXrHRZ9oQ9/T7BQh+wfkZUnhZ4egEwgqADAQOaNlbMWEwLYh6nLdCnc1soP5FcFITADGH0EFQAYyA/zb8VdAlIj1NZKQdocqwIgCwgqALC/s9b7czqnWGAIobZWFuV9jlUBMPIIKgCwj5Jqc3AKDmbcCmtDsOeEFh+AEUdQAYB9MEOPw7AMua8kY2bAl2WqHsDIM+IuAAASrazVmKE/DM9dFxHPubtOyXXXdz1B0yb8Pyh9UkTUF38dJZqS4wWpt2W9Ka4X2GWfk795S2YCuxwAJAxBBQD6OT/GsRXD8dx1z6l4btVztzyvue/znS8yjHQ+9v+/UnmlHVFaSemTo5RbCjkxdbnTkI4TzAWnpPrH8s6/k8eCuRwAJAxBBQB6mjdW5o2VuKtIAc9res6q63y+3Tk59NWa4qz60UXTp5Q+ofQppUI+TzF8pi5TRdloSi2gtYSL8v5/lIfrkgvmcgCQJAQVAOiJLYn34dmuc8u1b3luNbybuM6qOKsiS0oracaMpk+JSvEPL03J5JiYmqzv323an79V8cvyZADXAoCESfFrPQCEajH3EVsS9+K56659y7VvRXvTqtP+jSO/0YwTmjGjtFKUdw9WyRJTl7V6ACMri/L+JfnaqhSDqAsAEoRdvwCgO7Yk7spz1+3WVbv564hTyk6ufctuvmm3rnp7RvNTxDICOxTy+5z/CGAUEVQAoIvF3EdlLcTlTGm0HVECGUQ5PM+p2M1fpzqu6JpMFaV46AGTZ+TDKakFUREAJAhLvwCgC9opO3le02n/5lD5RMur/LT/R2VMKHNCRLzOumffzRhec0XcgwxteE7FdiqaPqXl5tI4be+PrCgl1dahrvN9eecv5ZsBFQUAiUBQAYDdaKfs5HY+dr7YOHhwqjCrrLKyppU5ocZmB/wsr3HD66x7rRWv/onXGmK/NddZdZsV3ZjRzAeGLTUJJvKS0+RO4+BXeEY+/PfyGJMqAEYJQQUAdqOd4vPcqtN+b/AdvZQ5oUpn1NisVjpzsDuqsdkvU43bdOs3vOp1P70MUK7tdD52nVU990ga5+wLOVFKKo2Dj9fTVAEwYggqAHAP2ik+177ptJcGeqqW10pntKOPD945GfyyUjojIl7jhrtxza1e33d5mOdW7davdfMBzUjfke1jphiarNYOmFVoqgAYMQQVALgH7RTxbKf9G9dZ3feJypzQJn5XO/q4aOEOh6ixWX1sVneb7sY1d/3NfRosnu20lzy3qptzqTtxxT8Rcq0utnuQT6epAmCUpOwVHABCRTtlwOVeypzQjj+tjT8eTVV3aXlt8ilt8il385q79nr/uOLatzx3S7ceS92EvanLfSVZrUnHGfpzaaoAGCX6V7/zvbhrAICk+OeFyyXVjruK2PjrpsTru7xKy+tf+W/1E/+zsspR1bWbssra5FNKlNdaEc/u+Tyv7Tq3NP24UofeADhaSknBlKZ9kDVgBem8Jelb9gYAe3GOCgDctWDezHI7xbVv2a1f93vfL6KNP24++ENt8qnIqupDO/60+eAP9xnc92y79evB9wNIDk3JVPEgx0E+Ix8WJLthG8AoIagAwF1nc+/HXUJsXPuW0/5Nn5SizAlj5jm9/N2wx1GGo+X1+5/V73+2X1WebTffdO1bEZYVjANnlW9Ldv8lAxglBBUAEBGZ0yvzxhAHd4ySuymlN610xpj9xwFv6hUcrXRm39bKgNsDJM3BssoiQQXASCCoAIBIhtspnrveP6XoU9/ap2WRBH5r5fgzfZ7itH+TkTVgBWk/Ix+FVhEARISgAgBS1mqLuQ/jriIGnlu1W723Y9byxsxzCZlIGYR2/Ol+mSpL8yqL0i98AkAqEFQAQL6dyZTiv3HvOZei5Y2Z5xK73KsXrXTGmHmuT1ZxWu/03zAgmfysoqlBnz8rlUcko0sZAYwMggoAyKKZxXUy+6cUazraioKhrOk+WcXzmnb7v0ZcUiCGzSpPs/oLQMoRVABkXTZ3JfbPbu/+sTSnFN8+WcWpuJ2PIy4pEP659QNmFfYpBpB2BBUAWZfBdorrrLr2ze4fS39K8fXPKk7nY8/td7B9Ypm6TAy8rwEj9QBSjaACINPKWm3B7PGWfVR5ds9tvkYlpfjuZpUenNZ7aRxWEZFCbtCswj7FAFLNiLsAAIhTBsfo+xzsqN/3rbBTirt5TTobux81j2rjj4dxO2VN6+XvOsuv7f2Q5zWdzpKe+1oY9w1byZKOK7X9FnZNSfURWXlPRiR5AsgaggqATMvaui/XWe117qE2+VRIaeGeAjavefUbux5Uhdnwbq2NP+7Vb7ib17oUY9/SjBNKmwjp1qGaHBPbldZ+PaGn5SOCCoCUYukXgOyaN1ayNUbv2W57qetHlDWtT30r4nIi06dT5LTei7iYAB0viLHfj/FvSMZWNgIYIQQVANmVuXaKfdPzml0+oOX1+5+NvJwIaXm9/L2uH/G8Zs99BRJPU3K8sM8mYJxSDyC9CCoAsitbY/Se7fR4R64ff1qZqVz+NDhlTevHn+n6IafzcUqn6mWwTcCepKkCIJ0IKgAyasG8WVIZOmXCtW92fTuurGlt8qkICvA6627ljS6T9CJe/Ubng39lf/qyW3nD64S1a7DWK495dnqbKiJSyEkx1+8JT8pNDlQBkEYM0wPIqAXj07hLiFCfdsp9/33YN3c3r3Wdob/3SU2vfsOp35DVn/nZKYzxer38Xfvmy3sfd+ybmjEjKq0/E4/mpe1Ix+n5hG/Ip5flwQgrAoAA0FEBkFGZWvfVq52ijT+uxmbDu6/XuGHf+L+c5df2SSm7Pqu14iy/Zn/8Y7d6Pdh61NisKnT77+vZrnMr2HtFSVNybKzfsAqrvwCkEUEFQBZlbd1Xr3aKdvzp8G7qrr1u33zZa60c7NO9zrrz2Stdj0A5DH36u10fdzvpfitv6jJu9fwoq78ApBFBBUAWZWrdl2vf6tlOCW2G3ll+zVm7fPjrdG+AHOaC5kTXRWWe1+x1wkxalCwZM3t+9BuSoX/zAEYDQQVAFmVr3Zez3PXx8Nop7trrXQ9YHJqWD2NSRTva/Zqe3f0LlSKTvReAsfoLQOoQVABkzryxkp11X57X9JzK3se10pmQ2ile40YgvRQR0cPZjqzXpIrrrKZ3n2KfpmRyrPuHHpEDrsEDgLgQVABkzoKRoV8tez2WM6kQOhW+oFKKiKjxx4K61C69GjWpHqn3jZndF4AVpE1TBUC6EFQAZM4TRoZ+teza3d55a3mtdCaM23mNGwNt8KXlVWF2+/9E63JmYagjNNr4411v6jqfh3THKPVaAEZTBUC6pHXPeAA4mLJWm9O7LIUaSZ7X9Nzq3sd7DWkcnrux/2iKPvWtvUdMeq0Vt/KGW70ubtN/JLwi716/dGbvII3nVMSz03ugik9TMm7JenP340/Kpy/Lk3FUBAAHQUcFQLbMZ6md0nU6RXovfDq8fU8+6ZpSRERZ03r5u+aDP/RrU+ZEqAe8iIjq0VNy3VHIsSVLrD1pa0qqU1KLoxwAOAiCCoBsmdezFFTc9S6PanllTYdyP7e53Q/pSpkTXVPKl7S8Xv6uMfOcNvWtgGvbe6seQcVzun3RUmiiy9I2Vn8BSBOCCoBsoaMS0nSKiOx/tqN5dJDrqLHZ8IrcqetdvJHoqIiIqUtpzxGQXyOoAEgPggqADClrtbLWZWZjNHm253XpbwR+hOIQOhux3bqbrqvLuk71pNS4tXuqno4KgBQhqADIkGy1U7zub7iVVY64km1eZ33fIZYoqXz3L0X3JXMppKndC8AYUwGQIgQVABmSrQGVHpP0YQ2oDMZZfi2YQ+uD0Gte33O3Iq4kPIWcGPf+qKepAiAtCCoAMiRjHZWo130NFIHcprP8mv3xj93KG/vPtISva81e3y0BUmfXWfWzciemQgBgOOneKh4ABldS7QwNqPQKKkZYRyiKiGh5ZU54nf3XTXmddWf1Z/LFNsSqMKuVznQ9gTFsypzYm5d6rZpLKcsQy5CWffevdFQApAVBBUBWZOecR1/X9UvhnfV+9/qlM17ljcGf73XWvc66bF5zRJQ1rY0/rh3tfmZ8SJRVliSNzYRk3JLVL4LKrGTrGwFAerH0C0BWZGrdl4iIZ3d5MOQBFW3idw/8uV5rxVn9WeeDf+UsvzZIWyYY2p4dfHuP96SX31TZRlMFQCoQVABkxWlt1N59HoDSw21WKHNCP/7MIS/ibl6zP/6xs/xa/+MjA9Fr46/RM74jkdFUAZAKBBUAWZGppV8xHgaiHX9aG3/88NdxN6/ZN1+OIKtkxM6mypSM1BAOgFFFUAGQFZmapBfptu5LJJrxD7383UCyitdaiSurdN2KIO22myp0VACkAkEFQCZkbkClh8gOUdHL39Xvf/bws/tea8VZez2Qkoa88QgGFcu4e6YKMyoAUoGgAiATyhqncUdNK50xHvihXv7uIdORW3kjutn6UbfdVClIO9ZCAGB/BBUAmXAiW+u+EkQbf9yY/SfG7D/RJp86cIPF23wn2Koya/ug+lOs/gKQeAQVAJnAll8+r3Ejlvsqa1qf+pbxwA+NB36oT31r2OMd3c1r4dXWnYrh9MloFHIijKkASAMOfASQCSWVtYUuCX15V+aEmnxKJp/SRdzqdXf9Da++f3byz4UM+7TKndToBpWiKZtNKbL0C0DiJfQnGQAEK1N7E4uI0kpxl7A/rXRGK53xGjfsv39l/6297A2JMKiMMF2TYk5m29n6jgCQRiz9ApAJ2euodOc5idvMSo3NGr/17L5PC2mefpB+zugpmAzTA0gBggqA0Ze1dspdqlvPvJXEfWnV2Oz+T+pshF/IXUqfjOxesbAMOcE+eAASj6ACYPRls52itCN7H4xon1+3GcP4+4F4reW4S4jHbI598AAkHTMqADCalMp7ex707CiCinP7Z35QCeR8ep8qDNB1GV7X5KZUCiZ8DqloiiRuGSAA3IOOCoDRdzqTS7+67lsVwUiG11rxU4qz/JpbeSPs2x2S120tnBpm6+SU0rWsLokEkB4EFQCj70g2l371GLTo+tY8QM7qf9rx5585n+2/o9cgJQ00xzKkXqfKdF01N3qyuSQSQIoQVABgNPVavxTqVIa7eW1X08atXu989OM+rRWvteJ89kr/y2qlM8HUt+vWze5fCqWxDzIAxI8ZFQAYUcpQKu95u7sZXvW6BDc6cg+36dz+WffHV3/mrL2uHX1cjc0qc0JZ0yLiNW641evuxrV9Wy4qpKDSraOSiiNoACALCCoARl9ZZXQnVqVPevatXQ+69Rt6OLdz1l7vFzncplt5Qw4wtaLlQ+qouNXrex9U2ojvTbytzA7FAJKNpV8ARl9Zy+hOrN2XMLnNXrMZh+G1VkIandePPy0hTLd3TSkiovSsrPs6kdXvCwBpQVABgJHVa56+13v0w9g5Qx8gVZjVJp8K48pejy+ClpmOCgAkHEEFAEaWUvmuExfuRvCnMQZ4ZMqOi+aN+58N/rIi4ja7pjVNnxLFomgASASCCgCMMs040eXRHm/TD3Wj8ceNmeeCXKOl5QO+4A5u9XrXcRqlfyWM2wEADoCgAgCjTOlTXR9314OfJ1Fjs+aDPwxk8F1Z08bsP/Y3BwtDr3EarceXCwAQPRrcADDKlMorfdJzdp9B7tVveJ11ZQY9OK7l9fufVdXr7urPvM76wa6hH39GO/50sHXt5DVudD1iknVfAJAovCIDGH3Lbkkk3OPYk0zTy86eoCIi7trrevm7odyxdEYrnXE3r+09/7EPZU5o44+r8ceCj0/3ctYudy/AKId636S55XJiDIBEI6gAGH3LXjHuEuKkGSeczpJ49q7H3c1r2vGnw0sF2vjj2vjj/jyM11rxWsvS2ejaZlHmhH7/s+Et9NrJa9zomp2Uymdt3deym+nvCwDJR1ABgNGnGzNO5+O9j4fXVPmSlt+5IZj96ctdcoJ5NJqUIr3bKZo5E00BAIABMUwPAKNPM2a6Tl+4m9fCOPwxsXq1U0QZmt5tezQAQHwIKgBG35aXi7uEuClDN7p3DJzboRzUmEzO8mtdH9d7BLnRVuX7AkCyZe51GUAGfeBw1rhoxoxj39w7qeK1VtzKGyGd/t6ljPHHZezU7kfNoxHc2l17vftGZMrQeqS40bbE9wWAZCOoAEA2KKPXpIqz9roqnIpmSiSUA+wH4LVWek2n6OYDGWynAEDysfQLwOjjN8c+zXxAqW4HvbtNZ/k/RF5OhHr/F1RaiXYKACQTQQXA6GMt/jbdeqTr415rxVn9WcTFRMa5/bOuJzyKiJ77BxEXkxB8UwBIPoIKgEzg98c+pU30Oi3Erbzhbl6LuJ4I+OdOdv2QZswoLdzDJROLwS0AyUdQAZAJ/P54m577Wq+RDGf5tV6dh5TyGjd67fSlVF43H4i4nuSoCt8RAJKOoAIgE952IjpPMAWUoee+1uuD9s2XRyareK0V++9f6fVR3XokyzP0V22+IwAkHUEFQCbccktxl5Agmj7Vc4LcbY5GVvFaK/bNl8Vtdv2obj6Q2UVfPr4jACQfQQVAJrAifxc9N6e0Hm9V059V+qcUpU9qGV70JSJVL7fsFuOuAgD2QVABkAkM0+9lWF/vvluxpDur7JNStJKR++2IS0oavh0ApAJBBUBWsCh/N2Xo1mM95zTcpn3zZbd6PdqaDsvdvNYnpYgy9FymR1N8jGwBSAWCCoCs4M3ZXkorGdbXe37YbTqfveKuvR5hRYfirr3uLL/WJ6UY1td7LnjLEkI7gFQgqADICpa7dKW0Up9NwETEWbvsfPZKz3f/CeE27U9fdtYu93wCKWUHvhcApAJBBUBW8FvkXjTjRP+s4lavdz76cWKXgfnlefUbPZ9BStlhyZnkWCEAqUBQAZAVVS/HL5J70YwTuvXb/YY33Kbz2StJa614nfX9qyKl3OttEjuAlCCoAMiQv7Z7HB4CEU2fMqyv9x80v9taScLUitt01163b/zbffo8pJQ9rvBdACAlCCoAMuRKh7do/SitZOR/d5+39W7TWbtsf/xjd/NaVHXtKWHzmn3j3zprl/u3d5RWMvO/R0rZqerlWAMJIC2yvkUjgExZciaX3VJZq8ZdSHIplTesrzvt37jOap+neZ11Z/k1d+11bfxxbfJ3RetxHkuw3KZbedOpvDHI8jPNOKGbc+xEvAtZHUCK8AoOIFuudE6etd6Pu4pkU4Zu/baybzqdj8Wz+zzR66w7a5edtcva+OOqdEYrnQmpIrd63ateH7SHowzdnNOMEyEVk2pX7JNxlwAAgyKoAMiWS52HCCqD0IwZpU067fc8d/8GlLt5TTavOVpeK51RpTNaYTaAHovbdOs3vOp1t3p98Al+pU/qua8pFUmHJ22qXo6OCoAUIagAyBZWfw3OH1lxOx879s3+rZW73ObdxCKirGlVOKWMoypfVtb0QLnFbXqtFa+57LVWvNay11oZslxDNx/QDN6I90RKAZAuBBUAmcPqr6Fo5gPKOOG2l/pPrezitVZ2JQ1lTYveI644zaFjya4ijROa+QCNlP4udR6MuwQAGAJBBUDmvNL+GkFlKErldeu3NXfd6XzsOZWDXeSQUaQXpU/q5gNKmwjj4qNk2S2x3xeAdCGoAMicZbd41Z6eN0J53zzClDZhWPPe4eJKkPUQUYZBOwVA6hBUAGTRq+2HCSoH80Vcqbr2Tde+FUcFhqZPsdBrWK+0Ho67BAAYDkEFQBZd6cwwUn8YSivpua/p5pzrrLr2zUF2Bjs8TZ9S+lc0fYrTUYZ1qf1Q1cvFXQUADIfXegAZdbH12PmxX8ZdRcopQzNOaMYJz2t6TsVzPnfdykD7gw11C22SfHJIF1uPxV0CAAyNF30AGXWlc7Kaz5VUO+5CRoFSeWWcEOOELuK565675Tnrntc4WKdFaSWlHVFaSWmTSisFXm3WXLWnl91i3FUAwNAIKgAyqurlXm0//Lz1TtyFjBqlTShtQr44z8RzqyK25275nRbPsz3vy/SiVEn5fRJlKO2IiEEyCdxLtFMApBNBBUB2vdJ6+GzufZoqofKDB3tzxeWqPc2uxABSSou7AACIjd9UibsKIES0UwCkF0EFQKZdbD627LLWCKPpUvsh2ikA0ougAiDr2BAJo4p/2wBSjaACIOsutR/kt84YPS+1HmOzLwCpRlABAPlx88m4SwCCtOyWOIoeQNoRVABAlpzJV3lXhxHyYvN3OIoeQNoRVABARORii6l6jIgrnZkrnZm4qwCAwyKoAICISNXLXWh8M+4qgMPiXzKAkUFQAYC7rtrTLABD2l1ofJNFXwBGA0EFAL50sfXYkjMZdxXAAV1qP8SiLwAjg6ACAF+qerl/3vg9fiGNNFpyJl9s/k7cVQBAYAgqAHCPJWfyRXYrRtqQsQGMHoIKAOx2qf3gpfZDcVcBDOHF5pOsWgQwYggqANDFhcY3eduHtHi19fCl9oNxVwEAASOoAEB352p/xEIaJN9Ve5rFigBGEkEFALqrejmyChJuyZk8X38m7ioAIBQEFQDoacmZ5Ow8JFbVy52v/wFZGsCoIqgAQD9XOjMXGr8XdxXAbn7Hb9ktxl0IAISFoAIA+7jUfpCsgkTxUwr7PQAYbQQVANgfWQXJQUoBkBEEFQAYCFkFSUBKAZAdBBUAGBRZBfEipQDIFIIKAAyBrIK4kFIAZI0RdwEAkDL+EeDn8m+VVDvuWpAVy27pfP0ZUgqATKGjAgBDu9R+kLMgEZklZ/L56rdJKQCyhqACAAex5EyyDgcRuNKZIRUDyCaCCgAckJ9VrtrTcReCkfVq6+Hz9WdIKQCyiaACAAfnzze/2no47kIwaqpe7kLj915sPhl3IQAQG4IKABzWi80n+bU3AuQ36/xtGwAgswgqABCAK52Z56vfYWQFh3ep/RDjTwAgIvpXv/O9uGsAgFFQ9XL/of0PlJJ5YyXuWpBKVS/3zxq//3+3Hm2LHnctABA/OioAEKSLzcfO1f5o2S3FXQhS5qo9/Xz1O1c6M3EXAgBJQUcFAAK27JYudR60xHnU+DzuWpACVS/3l635v2g8xZgTAOxEUAGA4LVFf8O+/21net64zQH26OOqPf2/1v+7N+374y4EABKHoAIAYfFbKx3RmVrBXlUv96+bT/24+SSNFADoihkVAAhR1ctdbD52dut/4lxI7PRq6+GzW/+IDYgBoA8j7gIAYPQtu8VztT9aMG+ey/9NWavGXQ7idNWe/nHzSXYfBoB9EVQAICJXOjNXOjMv5N85m3ufwZUMWnZLLzZ/h329AGBA6vd/cjHuGgAgW0qq/az1PnElO5bd0sXWYyz0AoChEFQAIB4l1X7Beues9X7chSBEVS/3YvNJIgoAHABBBQDiVNZq3859SHdl9PhdlCudk2zqBQAHQ1ABgPixGGyUsNALAAJBUAGApCip9oL56QvWO+wMllJX7elX2w8zLg8AgWDXLwBIiqqXu9R+8FL7wXlj5Wzu/QXzZtwVYSBVL3elM3Ox9diyW4y7FgAYHQQVAEicq/b0VXvaH19ZND+iwZJYS87kq+2vMYgCAGFg6RcAJN2CeXPB+HQx92HcheCuu72vzkOc2wgA4SGoAEA6+BMsi+aH88ZK3LVk16X2Q1fsk0yhAEAEWPoFAOmwPcFS1moL5s1F88M5vRJ3UVlxpTNzxZ5hiRcARImOCgCkVVmrzRsrC8ZNxu7D4I/IX7FPXrWnyScAED06KgCQVstu0e+xyBdzLPPGCpP3h7TkTP61PXOlM8P8CQDEi6ACAKPgSmfGH5zwF4bN6yvzxgrHRw5o2S1dtaevOtMs7gKA5GDpFwCMrDm98oSxMqdV6LTsteRMvm1PL7nHrtrTnH8CAAlERwUARtaSM7m9fqms1eb0O3N65Ql9ZU6vZLDZsuyWlpzJD9zJq/b0kjNJ5wQAEo6gAgCZsOwWl93i9r6627nltFYpa9WR3EDsqj297JaWvSLJBADSiKACAFm0K7eIyJx+N7GUVc3/Q4q6Lstu6ZZb/MCZrEruqj19yy2xmgsA0o6gAgAQ+WKd2K6jDP24clqvHFHtkrRP65XtB6Ov0E8jIvK2My0ifhohkwDAqCKoAAB68kdcrtrTXT+6M7HMGys7P+S3ZQa/kd8M2f7rlpf74IvpGqIIAGQTQQUAcEA7TxrpFWYAADgYLe4CAAAAAGA3ggoAAACAxCGoAAAAAEgcggoAAACAxCGoAAAAAEgcggoAAACAxCGoAAAAAEgcggoAAACAxCGoAAAAAEgcggoAAACAxCGoAAAAAEgcggoAAACAxCGoAAAAAEgcggoAAACAxCGoAAAAAEgcggoAAACAxCGoAAAAAEgcggoAAACAxCGoAAAAAEgcggoAAACAxCGoAAAAAEgcggoAAACAxCGoAAAAAEgcggoAAACAxCGoAAAAAEgcggoAAACAxCGoAAAAAEgcY/PjD+KuAYCIyPgDp+MuAQAAICnoqAAAAABIHIIKAAAAgMQhqAAAAABIHIIKAAAAgMQhqAAAAABIHCPuAgAAiM78uL7zr0t1t2p7cRUDAOiDoAIkwv2Tk89+Yz7UW9za2rr0PtuRI1tKhporaPNH9dMFba6olS219zlV21uqu29vulfu2Es1N/oiAQBdEVSARLj/2MTz33gi1Ftc/WyZoIKRNz+uly11Iq89Ma7NFbSS0SWZ7FIy1Py4Pj+uP3/SXG55r9zqXFq1abMAQOwIKgCAtNoZDfQepwAAF1VJREFUS05Y3RsmQylb6typ3AsnzVeX7Ys324EUCQA4GIIKACAF/EVcp4vaCUudLgYTS/rc6/mT5uKUcf56k8VgABAXggoAIHHmx/WSIXNFvWypsqV2TcBHo2ypi4+NvfhJ+9VbnejvDgAgqAAA4rQrkww4WBKZc6dyc0XtwgetuAsBgMwhqAAAolC2lL9e60ReS2Ym6WVxyhARsgoARIygAiCjtlcTnS5qR3a8XS7pcrrY5TDctzd3zyos1ZyqfffPVzedUKpMob2BpKSruW5f0kgZeckVxSrd/WunKXZTmhsDfjZZBQCiR1ABMOJ2rSw68JvmbmMS5t6nLdXcquPJF8HmVtNdbnkycknGTyP+F1ZEnhjXRCRxHRIjL/mjMnZU8kfFyHd/Tn1NtlakvrbvxRanjKsbzqVVe99nAgACQVABMFIGOeAvVNspqOv893LLu9VyJfExxv8yih9I8pqInC5oJUOkx3+vBNEMKRzfJ5zsVDguhePSrsnah/s2WM6dyl3ddPz/yQAAYSOoAEi9uaL2xLg+P67HkkyGUrZU2dKlx9t9/4h0EVluef674e0kIyJLdfcwpxDuuuP80S//6vdDRCTUPX9DpBlfdE4mJFc8yBVyRTnxmKz/f1K50edZJUOdP22de7d5wDoBAMMgqABIpe1wMj+esOVGh+AfkT7sZ20vNkvEKEiU7nZODhpO9pr4qhiWrP5dn6f4Z9gnrQMGACOJoAIgTRaO6QvHDP888rhrSYpshZNtM98YaGXXsErTItI/qzw/Y159l6ACAKEjqABIupKhFib1hWPGwrFkT0cgSu1aKEFFRErT0tiQ6kqvj/uLDDmxHgDCRlABkFyLUwb5BN21a1I4HtbFjz8ozQ2xe86inD1hslUxAISNoAIgcebH9cX7jIVJfWSGTxC8xrpMfDWsi2uGTH61zwKwhUnCMwCEjqACICnKlvr2febilMH8CfZnh9zQKE3L2kfidj81pWSozK7+Kltq4Zjh77C3a+8Hf/fttzfdK3fsbH5xAASLoAIgfgvH9MUpkyVeGILdFNcWLcyfYoXjfSZVnhjXs/Ne3M8k80f1/vtY+Ltvz4/rz580l1veK7c6l1btw+ypDSDjCCoAYlMy1OKU8ewJkxYKDqJdk/zREK9f7BdUToz6P9qS8f+3dy/LbVz5HcdP3y8AQQ1lRpQ9kjW2OBXPVJxhsslGD+AHcPajZarirOMH0APoAeS9tEzV8AG4ySbDKbuSiS2OYsmmSQoWxAvQ6Mvp7ixaQ1Egro0G0Q18PysRl+5Tlkzix3P+/7+y1VC3GtrvGlqOznIblvLFHfP+L41HP0ZPDqJZrBDAwiOoAJiDDUu5f8ukCgVT8U9mG1SGjme5u6Bdobca2r21nOHksrqufHHH/Gxd//Jb/3x0KQCMiaAC4EptNbTPb3LKC0WIZjwhfkbtj8tns6beW9N/11BzzBsd8/pffep8+W3AoEwAEyGoALgiWw3t97eMGX0SwjIK2/NeQYVt1tTfNbSthrbVUK9gY7OuKw9/az/YC7ab/fsTAMBlBBUAM/fZun7/lkkhCgoWdua9gooZsyZ+dr68a+15yfI0IQAwJYIKgBkiomC2Zl2mUn1ZTfy9NX1e4aTHw9/Yv/+6S70KgHEQVADMxL017Ys7Vhk+GGGRSV+ImQWVKu/Y3FvTcjfsmqm6rnx51/riv2dcXwRgIRBUABSMWhRcnaAj6jO7+NAamL3ynV/KjnXNria+KFsN7bN1nWIVACMRVAAUhoiCqzbTevrOqyFPlqTQ4opr4oty/5ZJUAEwEkEFQAGyuSifrfMtBVfLP5nVlRMpvGFBZc+bW1DJauLvrenVCicXbVgKmyoARuJTBYCp1HXln28av/+lMe+FYFlJfyYDT05/GvLkYZBe8Y5KXVfu/WKeDbsK9/lNg6ACYDiCCoD8Pr9p3P+lUdHf6WJBhJ3ig4r0xcn+kOd3WlfxCTtr2FXOmvjpbdbUDUuh/ReAIQgqAPLYamj/esdcvA9PqJ6wI9zrBV+z+Z1IhkWRxwdRwXe8oCo18dPbamhsqgAYgqACYDIblvLFHeve2oJ/hEJldI/FtdtFXrD53fDSl93TuPB9gKwmPuspXOyVy2xrlaACYBiCCoAJ3L9lfr6hc9YLJSKDIq/W/E60j4a/5KsfitlO2bCUbA5jdWvip7QYxTYAZoegAiyLTVd9+NupjvLftFQ+WKB0pC8SKdSpf5wlUhz9z8g2YjutePc0zn2TrGHXItXET2PT5ewogGEIKsCyqOvKUp0qwRIJO8Kebj796b54/WJ4XYoQoi3TB3+ZeANnsWvip1HXlc2aWpKJNABKiKACAKg4/yRnUPFPROeVaB+NjCiZB38J2nLc6pSthnZvjXAywr9/bN3/ujvvVQAoKYIKAKDiIn/cVyZShB3hn4ju8aTDIh9+H+60Rhz62qyp99b0ZWjYNS6zJoQQYWfQ85s19f4t89EP4dUtCUB1EFQAABUXtoc9K30RdkT3RPjHQz4xD7fdlE8GtCTOGnYtc038O1Rd1G8IZ1XYq+8UDklfeK/EyU9C9qbKzzf0xwfR+FtVAJYHQQUAUHGX40fYEWFbdE+Ef3L5k/Gkvvox6vmVPzXxfdRviNr1gTNtdFs0PhCND8TxC/H6+Tvv05XP1vVBORDAMiOoAACqL+yIRL4NJ+PVnIzUlunD78Ns1kdWE581FCacvGXWxOoHwr0+buO1bOjNu1mFoAKgL4IKAKD69v9Y+CV3T+MHe8FmTf3ijklNfC/dFu51sfq+0Cdven7ttjg7urjTtVlTNyyl8DGaAKqOoAIAQK/sQ/OTf3DnvZCSUXXhXhcrN6btB+1eF6f7Fx/YrKmHQf4BNQAWEkEFAAAhIxkGURhETs22bHPDUjYsOnddYK+KlRsTHPEaTuu9yGZNG9lUDcCyIagAAJZUmqS+H0ZBFAZRkia1urP6ixVFpf7kAt0WKzdE/W/yHPEaLJUh/5UBjERQAQAslzCIAj8Mg0hGb2ruHddeWa0RUd6h6uLGb6Y94jVI3j7RAJYKQQUAsPjCIIrCKDvcdfFxx7VrDVfTKJS/JJFCt2Z0bSU4ndGVASwSggoAYDGdl52EYZQmvR2liCijnfwkrn80kyvf/FQ0v5t+xA2AxUZQAQAsjmznJApl33AihFBUxXFtt+4QUUbzXs0qqNir4oMtsb97nlUO/GQmNwJQZQQVAEC1DTrW1UPTNKdmuTWHWpRxSV94rwYOm5+Sqov1X4uDr7Ov9jyCCoBeBBUAQMWkSRr+NZmcF8QPYVqG7dqOO6uKi0V2dlRgUIkDT7MujKaxV4V7XXivDoP0aYegAqAXQQUAUAFZwYmM4jCI4nisgRuKqti25dZt3eCHXV7eK5HIQmandF78r3X9puhJi86q8F7ttEanTQBLiO/dAIAyiuNERvK8IH6i9+qG7tYd2zY55VWA9pFofDDNBcKTn8+efW3UV/XapWbHZl0I8fhgsr9fAEuCoAIAKIU0SaNIZqXwMorH3Da5SNM0yzEplC/YWc6gksrIbx34R8/Dk58V3Vj7u3t9XpTI7aY8DPq0PQAAggoAYD6mTyaZ7IiX7VqmZRS7QgiRZzhj8Oqg+/J58Org/JHa+3cVvc/fTrt9/PD7cKrlAVhcBBUAwBW5eJorlknuZJLRNM20DMsxLdssaoXor30k6jdGvioOPG9/L2gdxL538XHNdmu3/7bPGxL54E8v2pLtFAD9EVQAADORbZjI6M1uyaR1JoPohm5ahuNalMhfnZP94UGl+/JFdsTr8lOKblz75J/6vmvn2bOdn4NiVghgEfFdHgBQgDhOYhlHYZQkqYxkFMm+8xbzUVTFNA3LsUzLoP5kDsKOCDvCrPU8LDsn3k97/quDVPZPoebqe41f/+M7LYn/avvZ/sM//l/xSwWwQAgqAIDJZJlERjJN0zB4k0wKv0sWTkzLMC2DzZP5O9kX67/O/pjKqPvyRffoueycDHq5ohv125+473/c99ntZ/sP/vObmawTwALhWz8AoL/ssFYWSLKSkukLS4bTNE03NMJJGbWPxPWPwrNj/+Xz7tGL4a91btxe+dWn/avnQ/nwj3/efrY/m1UCWCj8GACAipGR7HpBLGPD1IUQhvnm46CqKuN8uM9KRy5eLU1TIcR5CJl1GrlIURXD0LNYohs6x7pKKE3Srud7bT/e/4+RLzZX31v56NM+81KEEELs/Pjy4X/9+bDTLXqNABYTQQUAKqPrBZ1T7zxFBH71+rpmacQwdcM0NF0jmZRZ4Ifdjj/mPzNz9b3a7U/M1ff6Prv7svXVN3u7R61CFwhgwRFUAKAajl+dViuZaJqm6apu6KqqEEsqJI4T3/O7nWDMjbXhEWX72f6jb/bYRQGQA0EFAKrBMPUSBpUsjQghsmGLuqErikImqaiuF/ieP34j6SERpR3KJ99+//jb5+2wmLbUAJYQQQUAqqG24tZW3DCILla3Z08VWFWSbYAMeiTLIWLsehhUQlb11PX88TtKOzdu125/0rfv8GGn++ibPcrlAUyPHzMAUCVZR6x5rwKLIE1S3w+9dnf87tKKqjjXrrsf9x+NQiEKgGIRVAAAWC5hEPle0PX88d+iaZpbtx3XVkxbXEop28/2n3z7/Onr00KXCWDZEVQAAFgKcZwE3cBr+xMdFDQtw3Ztx7XefC190T4S9Rvir4Uof3i2T608gFkgqAAAsOAmajR8znFtt273KUY6OzpUGo++2dv58SW18gBmh6ACAMBiiuPEa3cnqpIXQmia5tQst+Yo77ZVyOyexk++Pdpp/VTcMgGgP4IKAAALJUeVfKb3lNe7tpvyyUH0tJMUsUYAGI2gAgDAgsiq5H0/mGgLRVEV27ZqDbfv9JvDIN1uyscHUVtOcE0AmJ4uvc681wBA+Gd0ywGQU74qeSGEpmm1hmvb5qBTXtsv5XZzsm0ZACgKOyoAAFRVvip5IYTj2rZr9Z3J05bpzuv40Q/hYcAWCoB5IqgAAFAx+arkxcVxKP22UA6D9NEP4c7rmFNeAMqAoAIAQDXkrpIXQ7dQhBDbTbn9Uu6eTnZyDABmiqACAEDZ5auSF2NsoVAoD6C0CCoAAJRU7ip5MWoLZacVbzejnRZbKADKi6ACAEDp5K6SH2cL5Q8vIwrlAZQfQQUAgLKQkex6QY4q+WwWilu3daP/T3a2UABUDkEFAIA5m6ZKXjd0t+4MmoXCFgqA6iKoAAAwN1mVfNfzJ32joiqOa7t1p+84ecEWCoDqI6gAAHDV4jjxPb/bCXJUyVu26dRsyzb7PssWCoCFQVABAOCKZEe8fM8Pg2jS92ZV8pZjDdpC2W7KnZZkCwXAwiCoAAAwczKSXtvPMQhlZJX8YZA+Poi2m5JZKAAWDEEFAIBZmWYQimkZtmsPqpJvy3TndfzkIHraSYpYKQCUDkEFAIDiTTMIxalZtmsPOuK1expvv5Q7r2O2UAAsNoIKAACFmXIQypBZ8odButOSjw+okgewLAgqAABMK03Srud3vSDHIJThR7wEVfIAlhVBBQCA/KY54jW8i9fTTrLdlFTJA1haBBUAACY25RGvIV282jLN8glV8gCWHEEFAIBxTXPEy7JNy7Ec1xr0AmbJA8BFBBUAAEYL/DDohl3Pn/SNuqE7ruW49qASFI54AUBfBBUAAAbKfcRL0zTLMd26M6gEJevixREvABiEoAIAQK/cR7xGdhkWdPECgPEQVAAAeCt3F6+RJSgMagSAiRBUAADIf8RrZAnKYZA+Poh2WpJBjQAwEYIKAGB5xXESdAOv7cfxZAexNE1zapbt2oNKUOgyDABTIqgAAJZR1wuCbjDpES9FVRzXdlxr0BQUQQkKABSEoAIAWCJhEPle4PvBREe8shJ5yzEt2xz0mp1WvNOiBAUACkNQAQAsvjhOvHY36IaTHvHKSuRt2xw+BYUSFAAoHEEFALCwcncZ1g3drTtD8kk2BeXxQUQ+AYAZIagAABZNmqS+H+YoQclaeFmOxZRGAJg7ggoAYHEEfhh0w0lLUEZOkW/LdOd1TIk8AFwlggoAoPLyTUHJ8smQFl7kEwCYI4IKAKCqsnwyaYl81sLLrdtDWgzTwgsA5o6gAgComGxK46Ql8rQYBoBqIagAAKqBfAIAS4WgAgAoNRnJwA/9bkg+AYClQlABAJROmqRhGIVBlK/+hHwCAAuAoAIAyMNrdy+fwjItI/cFkySddCzjOfIJACweggoAIA+37rh1J46TMIiCbhCGUZqkYRBd5RpG5pPz/sK7pwn5BACqhaACLIvDINn+MRJC3HXV+oX/9bca2tzWhOrTNNVxLce1hBBhEEVhFAbRrOOKpmmmZQzJJ4dBunvK/BMAqDaCCrAsDoL00Q/h8NdsWMpNS33nS/vtlz0JZ9NV67pS9DJRYaZlmJZRWxFiNqFl5HzGp53kT6fxdlM+7SRF3RQAMC8EFQBvHQbpYZDzN9CbNbWuvc0td2vqyoUY0xNyblrqhkXIWWQXQ4uMZBTFMpIykjlyi2WbpmVYjqVpat8X7LTibP/kMOBwFwAsDoIKgGL0/A5793SCwFPXlU33nc+gPTlnw1J6gg0n1ipEN3Td0IWwsi/jOIllLCOZpmkUyjR9ky6iSKZJel6Ob1qGYRqDqvMPg3SnJXdPYw53AcCiIqgAmL+2THuCzUQ5R/SLOj3n1kS/tMPGzlxomqppao7+YFnlye5JvHsas3kCAAuPoAJgEVyOOvlcDjzi0vaOEKKuibu13pfVNWXz0oOY0tNOsuclhBMAWEIEFQB4q2/gmTIC9T2lVtfFZq3f4/0i0PBLVd1hkB4Eb84N/uk0EUIc+En2IMkEAJYZQQUAZmtQzim8uKKnadsQW6tXEXjOZLrXr/tWO07pygUAGImgAgALYvymbYUckwMAYKY4Tg0AAACgdAgqAAAAAEqHoAIAAACgdAgqAAAAAEqHoAIAAACgdAgqAAAAAEqHoAIAAACgdAgqAAAAAEqHoAIAAACgdAgqAAAAAEqHoAIAAACgdPR5LwDozzcMz7RiRY00PdI0NU3sKNLSxI4iNwxmd1/PtHzDOL+vEcdGLK/gvgAAALiIoIJyiTS9WW+c2Xas9G73nVnO+Z+vdb1r3U6BycE3jJa70ve+57Q0WfH99fapEcui7gsAAIC+CCookWa90aw3xnnlseMeO+5K0H3/5LWWJNPcNFbVZr3RcuujX6mo2X3XvPbG6fE0NwUAAMBw1KigLH5aXRszpZw7s5zna+uxOtU/4+dr6+OklItabv352vo0NwUAAMBwBBWUwrFTO3bcHG/0dWPSmHFRs97wdSPHGzumdezUct8XAAAAwxFUUAonuVJKZprA4JlW7vdOs2YAAAAMR1BB5SWqMu8lAAAAoGAEFZTCStDN/17fz/1eI45zv5duxQAAALNDUEEprHY9W0Y53qilyXr7NPd9b5wda2mepmG2jNa8du77AgAAYDiCCkpBS5IPW83ahHsUtow+bDWnmWqiJclHP7+cNCPVwuDDVnPKtsgAAAAYgjkqKIssqxw7tVatPrITlxHH6+3Ta93O9Pc1YvnRz0fHTq1Zb0SaNvzFtozWOu1C7gsAAIAhlN/8y7/New1Ar0jTz2zb182e5GDEsS1DNwzsKM85sZF8w/BMa9B9V3x/pjPp137797O7OAAAQLWwo4IyMmK51plDBYgdRTOKQAAAAJgINSoAAAAASoegAgAAAKB0CCoAAAAASoegAgAAAKB0CCoAAAAASkev37oz7zUAAAAAwDt0s7E67zUAAAAAwDs4+gUAAACgdAgqAAAAAEqHoAIAAACgdAgqAAAAAEqHoAIAAACgdAgqAAAAAEqHoAIAAACgdAgqAAAAAEqHoAIAAACgdAgqAAAAAEqHoAIAAACgdAgqAAAAAEqHoAIAAACgdAgqAAAAAEqHoAIAAACgdAgqAAAAAErn/wG7ZY8EtxSsYQAAAABJRU5ErkJggg==)"
      ],
      "metadata": {
        "id": "fKiEhGUTSZwp"
      },
      "id": "fKiEhGUTSZwp"
    },
    {
      "cell_type": "markdown",
      "source": [
        "# Nesta base dados buscaremos analisar o perfil dos clientes e identificar possiveis inadimplencias para o futuro, onde o algoritmo analisara a Renda, Divida, idade e projetar se o cliente sera inadimplente ou adimplente.\n",
        "\n",
        "# Default:\n",
        "# 0 - não Pagaram sua divida\n",
        "# 1 - Pagaram sua divida"
      ],
      "metadata": {
        "id": "GHVX9GYSTG7B"
      },
      "id": "GHVX9GYSTG7B"
    },
    {
      "cell_type": "code",
      "execution_count": null,
      "id": "46d9ec9c",
      "metadata": {
        "id": "46d9ec9c",
        "outputId": "2f6a0e0c-7b89-4dc6-ccc9-a2f2288f8ad2"
      },
      "outputs": [
        {
          "name": "stdout",
          "output_type": "stream",
          "text": [
            "Requirement already satisfied: plotly in c:\\users\\diogo\\anaconda3\\lib\\site-packages (5.8.0)\n",
            "Requirement already satisfied: tenacity>=6.2.0 in c:\\users\\diogo\\anaconda3\\lib\\site-packages (from plotly) (8.0.1)\n"
          ]
        }
      ],
      "source": [
        "!pip install plotly --upgrade "
      ]
    },
    {
      "cell_type": "code",
      "execution_count": null,
      "id": "8fe60fe4",
      "metadata": {
        "id": "8fe60fe4"
      },
      "outputs": [],
      "source": [
        "import pandas as pd\n",
        "import numpy as np\n",
        "import seaborn as sns\n",
        "import matplotlib.pyplot as plt\n",
        "import plotly.express as px\n"
      ]
    },
    {
      "cell_type": "code",
      "execution_count": null,
      "id": "9a5c724d",
      "metadata": {
        "id": "9a5c724d",
        "outputId": "78da7246-1d47-4616-cb26-80d9e4cca514"
      },
      "outputs": [
        {
          "data": {
            "text/html": [
              "<div>\n",
              "<style scoped>\n",
              "    .dataframe tbody tr th:only-of-type {\n",
              "        vertical-align: middle;\n",
              "    }\n",
              "\n",
              "    .dataframe tbody tr th {\n",
              "        vertical-align: top;\n",
              "    }\n",
              "\n",
              "    .dataframe thead th {\n",
              "        text-align: right;\n",
              "    }\n",
              "</style>\n",
              "<table border=\"1\" class=\"dataframe\">\n",
              "  <thead>\n",
              "    <tr style=\"text-align: right;\">\n",
              "      <th></th>\n",
              "      <th>clientid</th>\n",
              "      <th>income</th>\n",
              "      <th>age</th>\n",
              "      <th>loan</th>\n",
              "      <th>default</th>\n",
              "    </tr>\n",
              "  </thead>\n",
              "  <tbody>\n",
              "    <tr>\n",
              "      <th>0</th>\n",
              "      <td>1</td>\n",
              "      <td>66155.925095</td>\n",
              "      <td>59.017015</td>\n",
              "      <td>8106.532131</td>\n",
              "      <td>0</td>\n",
              "    </tr>\n",
              "    <tr>\n",
              "      <th>1</th>\n",
              "      <td>2</td>\n",
              "      <td>34415.153966</td>\n",
              "      <td>48.117153</td>\n",
              "      <td>6564.745018</td>\n",
              "      <td>0</td>\n",
              "    </tr>\n",
              "    <tr>\n",
              "      <th>2</th>\n",
              "      <td>3</td>\n",
              "      <td>57317.170063</td>\n",
              "      <td>63.108049</td>\n",
              "      <td>8020.953296</td>\n",
              "      <td>0</td>\n",
              "    </tr>\n",
              "    <tr>\n",
              "      <th>3</th>\n",
              "      <td>4</td>\n",
              "      <td>42709.534201</td>\n",
              "      <td>45.751972</td>\n",
              "      <td>6103.642260</td>\n",
              "      <td>0</td>\n",
              "    </tr>\n",
              "    <tr>\n",
              "      <th>4</th>\n",
              "      <td>5</td>\n",
              "      <td>66952.688845</td>\n",
              "      <td>18.584336</td>\n",
              "      <td>8770.099235</td>\n",
              "      <td>1</td>\n",
              "    </tr>\n",
              "    <tr>\n",
              "      <th>...</th>\n",
              "      <td>...</td>\n",
              "      <td>...</td>\n",
              "      <td>...</td>\n",
              "      <td>...</td>\n",
              "      <td>...</td>\n",
              "    </tr>\n",
              "    <tr>\n",
              "      <th>1995</th>\n",
              "      <td>1996</td>\n",
              "      <td>59221.044874</td>\n",
              "      <td>48.518179</td>\n",
              "      <td>1926.729397</td>\n",
              "      <td>0</td>\n",
              "    </tr>\n",
              "    <tr>\n",
              "      <th>1996</th>\n",
              "      <td>1997</td>\n",
              "      <td>69516.127573</td>\n",
              "      <td>23.162104</td>\n",
              "      <td>3503.176156</td>\n",
              "      <td>0</td>\n",
              "    </tr>\n",
              "    <tr>\n",
              "      <th>1997</th>\n",
              "      <td>1998</td>\n",
              "      <td>44311.449262</td>\n",
              "      <td>28.017167</td>\n",
              "      <td>5522.786693</td>\n",
              "      <td>1</td>\n",
              "    </tr>\n",
              "    <tr>\n",
              "      <th>1998</th>\n",
              "      <td>1999</td>\n",
              "      <td>43756.056605</td>\n",
              "      <td>63.971796</td>\n",
              "      <td>1622.722598</td>\n",
              "      <td>0</td>\n",
              "    </tr>\n",
              "    <tr>\n",
              "      <th>1999</th>\n",
              "      <td>2000</td>\n",
              "      <td>69436.579552</td>\n",
              "      <td>56.152617</td>\n",
              "      <td>7378.833599</td>\n",
              "      <td>0</td>\n",
              "    </tr>\n",
              "  </tbody>\n",
              "</table>\n",
              "<p>2000 rows × 5 columns</p>\n",
              "</div>"
            ],
            "text/plain": [
              "      clientid        income        age         loan  default\n",
              "0            1  66155.925095  59.017015  8106.532131        0\n",
              "1            2  34415.153966  48.117153  6564.745018        0\n",
              "2            3  57317.170063  63.108049  8020.953296        0\n",
              "3            4  42709.534201  45.751972  6103.642260        0\n",
              "4            5  66952.688845  18.584336  8770.099235        1\n",
              "...        ...           ...        ...          ...      ...\n",
              "1995      1996  59221.044874  48.518179  1926.729397        0\n",
              "1996      1997  69516.127573  23.162104  3503.176156        0\n",
              "1997      1998  44311.449262  28.017167  5522.786693        1\n",
              "1998      1999  43756.056605  63.971796  1622.722598        0\n",
              "1999      2000  69436.579552  56.152617  7378.833599        0\n",
              "\n",
              "[2000 rows x 5 columns]"
            ]
          },
          "execution_count": 65,
          "metadata": {},
          "output_type": "execute_result"
        }
      ],
      "source": [
        "# LENDO ARQUIVO\n",
        "base_credit = pd.read_csv('credit_data.csv')\n",
        "base_credit"
      ]
    },
    {
      "cell_type": "code",
      "execution_count": null,
      "id": "ba6ef088",
      "metadata": {
        "id": "ba6ef088",
        "outputId": "f90369e9-aee8-41a2-fdc9-08d51679380b"
      },
      "outputs": [
        {
          "data": {
            "text/html": [
              "<div>\n",
              "<style scoped>\n",
              "    .dataframe tbody tr th:only-of-type {\n",
              "        vertical-align: middle;\n",
              "    }\n",
              "\n",
              "    .dataframe tbody tr th {\n",
              "        vertical-align: top;\n",
              "    }\n",
              "\n",
              "    .dataframe thead th {\n",
              "        text-align: right;\n",
              "    }\n",
              "</style>\n",
              "<table border=\"1\" class=\"dataframe\">\n",
              "  <thead>\n",
              "    <tr style=\"text-align: right;\">\n",
              "      <th></th>\n",
              "      <th>clientid</th>\n",
              "      <th>income</th>\n",
              "      <th>age</th>\n",
              "      <th>loan</th>\n",
              "      <th>default</th>\n",
              "    </tr>\n",
              "  </thead>\n",
              "  <tbody>\n",
              "    <tr>\n",
              "      <th>count</th>\n",
              "      <td>2000.000000</td>\n",
              "      <td>2000.000000</td>\n",
              "      <td>1997.000000</td>\n",
              "      <td>2000.000000</td>\n",
              "      <td>2000.000000</td>\n",
              "    </tr>\n",
              "    <tr>\n",
              "      <th>mean</th>\n",
              "      <td>1000.500000</td>\n",
              "      <td>45331.600018</td>\n",
              "      <td>40.807559</td>\n",
              "      <td>4444.369695</td>\n",
              "      <td>0.141500</td>\n",
              "    </tr>\n",
              "    <tr>\n",
              "      <th>std</th>\n",
              "      <td>577.494589</td>\n",
              "      <td>14326.327119</td>\n",
              "      <td>13.624469</td>\n",
              "      <td>3045.410024</td>\n",
              "      <td>0.348624</td>\n",
              "    </tr>\n",
              "    <tr>\n",
              "      <th>min</th>\n",
              "      <td>1.000000</td>\n",
              "      <td>20014.489470</td>\n",
              "      <td>-52.423280</td>\n",
              "      <td>1.377630</td>\n",
              "      <td>0.000000</td>\n",
              "    </tr>\n",
              "    <tr>\n",
              "      <th>25%</th>\n",
              "      <td>500.750000</td>\n",
              "      <td>32796.459717</td>\n",
              "      <td>28.990415</td>\n",
              "      <td>1939.708847</td>\n",
              "      <td>0.000000</td>\n",
              "    </tr>\n",
              "    <tr>\n",
              "      <th>50%</th>\n",
              "      <td>1000.500000</td>\n",
              "      <td>45789.117313</td>\n",
              "      <td>41.317159</td>\n",
              "      <td>3974.719419</td>\n",
              "      <td>0.000000</td>\n",
              "    </tr>\n",
              "    <tr>\n",
              "      <th>75%</th>\n",
              "      <td>1500.250000</td>\n",
              "      <td>57791.281668</td>\n",
              "      <td>52.587040</td>\n",
              "      <td>6432.410625</td>\n",
              "      <td>0.000000</td>\n",
              "    </tr>\n",
              "    <tr>\n",
              "      <th>max</th>\n",
              "      <td>2000.000000</td>\n",
              "      <td>69995.685578</td>\n",
              "      <td>63.971796</td>\n",
              "      <td>13766.051239</td>\n",
              "      <td>1.000000</td>\n",
              "    </tr>\n",
              "  </tbody>\n",
              "</table>\n",
              "</div>"
            ],
            "text/plain": [
              "          clientid        income          age          loan      default\n",
              "count  2000.000000   2000.000000  1997.000000   2000.000000  2000.000000\n",
              "mean   1000.500000  45331.600018    40.807559   4444.369695     0.141500\n",
              "std     577.494589  14326.327119    13.624469   3045.410024     0.348624\n",
              "min       1.000000  20014.489470   -52.423280      1.377630     0.000000\n",
              "25%     500.750000  32796.459717    28.990415   1939.708847     0.000000\n",
              "50%    1000.500000  45789.117313    41.317159   3974.719419     0.000000\n",
              "75%    1500.250000  57791.281668    52.587040   6432.410625     0.000000\n",
              "max    2000.000000  69995.685578    63.971796  13766.051239     1.000000"
            ]
          },
          "execution_count": 4,
          "metadata": {},
          "output_type": "execute_result"
        }
      ],
      "source": [
        "base_credit.describe()"
      ]
    },
    {
      "cell_type": "code",
      "execution_count": null,
      "id": "c198e059",
      "metadata": {
        "id": "c198e059",
        "outputId": "59605e94-fce9-4ddc-c737-6faa8f516e1b"
      },
      "outputs": [
        {
          "data": {
            "text/html": [
              "<div>\n",
              "<style scoped>\n",
              "    .dataframe tbody tr th:only-of-type {\n",
              "        vertical-align: middle;\n",
              "    }\n",
              "\n",
              "    .dataframe tbody tr th {\n",
              "        vertical-align: top;\n",
              "    }\n",
              "\n",
              "    .dataframe thead th {\n",
              "        text-align: right;\n",
              "    }\n",
              "</style>\n",
              "<table border=\"1\" class=\"dataframe\">\n",
              "  <thead>\n",
              "    <tr style=\"text-align: right;\">\n",
              "      <th></th>\n",
              "      <th>clientid</th>\n",
              "      <th>income</th>\n",
              "      <th>age</th>\n",
              "      <th>loan</th>\n",
              "      <th>default</th>\n",
              "    </tr>\n",
              "  </thead>\n",
              "  <tbody>\n",
              "    <tr>\n",
              "      <th>422</th>\n",
              "      <td>423</td>\n",
              "      <td>69995.685578</td>\n",
              "      <td>52.719673</td>\n",
              "      <td>2084.370861</td>\n",
              "      <td>0</td>\n",
              "    </tr>\n",
              "  </tbody>\n",
              "</table>\n",
              "</div>"
            ],
            "text/plain": [
              "     clientid        income        age         loan  default\n",
              "422       423  69995.685578  52.719673  2084.370861        0"
            ]
          },
          "execution_count": 5,
          "metadata": {},
          "output_type": "execute_result"
        }
      ],
      "source": [
        "# prevendo o maior valor de renda anual da tabela\n",
        "base_credit[base_credit['income']>=69995.685578]"
      ]
    },
    {
      "cell_type": "code",
      "execution_count": null,
      "id": "a08ec76e",
      "metadata": {
        "id": "a08ec76e",
        "outputId": "63cac7ed-fe1e-4640-f596-b3f2cd55b962"
      },
      "outputs": [
        {
          "data": {
            "text/html": [
              "<div>\n",
              "<style scoped>\n",
              "    .dataframe tbody tr th:only-of-type {\n",
              "        vertical-align: middle;\n",
              "    }\n",
              "\n",
              "    .dataframe tbody tr th {\n",
              "        vertical-align: top;\n",
              "    }\n",
              "\n",
              "    .dataframe thead th {\n",
              "        text-align: right;\n",
              "    }\n",
              "</style>\n",
              "<table border=\"1\" class=\"dataframe\">\n",
              "  <thead>\n",
              "    <tr style=\"text-align: right;\">\n",
              "      <th></th>\n",
              "      <th>clientid</th>\n",
              "      <th>income</th>\n",
              "      <th>age</th>\n",
              "      <th>loan</th>\n",
              "      <th>default</th>\n",
              "    </tr>\n",
              "  </thead>\n",
              "  <tbody>\n",
              "    <tr>\n",
              "      <th>865</th>\n",
              "      <td>866</td>\n",
              "      <td>28072.604355</td>\n",
              "      <td>54.142548</td>\n",
              "      <td>1.37763</td>\n",
              "      <td>0</td>\n",
              "    </tr>\n",
              "  </tbody>\n",
              "</table>\n",
              "</div>"
            ],
            "text/plain": [
              "     clientid        income        age     loan  default\n",
              "865       866  28072.604355  54.142548  1.37763        0"
            ]
          },
          "execution_count": 6,
          "metadata": {},
          "output_type": "execute_result"
        }
      ],
      "source": [
        "# prevendo o menor valor de divida anual da tabela\n",
        "base_credit[base_credit['loan']<=1.377630]"
      ]
    },
    {
      "cell_type": "code",
      "execution_count": null,
      "id": "410f210a",
      "metadata": {
        "id": "410f210a",
        "outputId": "4abdfa4f-2f42-4407-e26d-cef7416568c1"
      },
      "outputs": [
        {
          "data": {
            "text/plain": [
              "(array([0, 1], dtype=int64), array([1717,  283], dtype=int64))"
            ]
          },
          "execution_count": 7,
          "metadata": {},
          "output_type": "execute_result"
        }
      ],
      "source": [
        "# contagem de quantas unidades tem cada variavel na tabela default\n",
        "# 0 = 1717 e 1 = 283\n",
        "np.unique(base_credit['default'], return_counts=True)"
      ]
    },
    {
      "cell_type": "code",
      "execution_count": null,
      "id": "3f27a1db",
      "metadata": {
        "id": "3f27a1db",
        "outputId": "6089a326-7fdb-493a-abd9-8cca1d2ade0b"
      },
      "outputs": [
        {
          "data": {
            "image/png": "[encoded data removed]",
            "text/plain": [
              "<Figure size 432x288 with 1 Axes>"
            ]
          },
          "metadata": {
            "needs_background": "light"
          },
          "output_type": "display_data"
        }
      ],
      "source": [
        "sns.countplot(x=base_credit['default']);"
      ]
    },
    {
      "cell_type": "code",
      "execution_count": null,
      "id": "04c36b66",
      "metadata": {
        "id": "04c36b66",
        "outputId": "adc07755-da11-4bcf-89e6-0540250fdf1e"
      },
      "outputs": [
        {
          "data": {
            "image/png": "[encoded data removed]",
            "text/plain": [
              "<Figure size 432x288 with 1 Axes>"
            ]
          },
          "metadata": {
            "needs_background": "light"
          },
          "output_type": "display_data"
        }
      ],
      "source": [
        "plt.hist(x=base_credit['age']);"
      ]
    },
    {
      "cell_type": "markdown",
      "id": "a63c27cd",
      "metadata": {
        "id": "a63c27cd"
      },
      "source": [
        "## tratamento dos valores inconsistentes"
      ]
    },
    {
      "cell_type": "code",
      "execution_count": null,
      "id": "cf4863a1",
      "metadata": {
        "id": "cf4863a1",
        "outputId": "fdccf58b-8ef4-475f-a3ca-cc442ccfcd1c"
      },
      "outputs": [
        {
          "data": {
            "text/html": [
              "<div>\n",
              "<style scoped>\n",
              "    .dataframe tbody tr th:only-of-type {\n",
              "        vertical-align: middle;\n",
              "    }\n",
              "\n",
              "    .dataframe tbody tr th {\n",
              "        vertical-align: top;\n",
              "    }\n",
              "\n",
              "    .dataframe thead th {\n",
              "        text-align: right;\n",
              "    }\n",
              "</style>\n",
              "<table border=\"1\" class=\"dataframe\">\n",
              "  <thead>\n",
              "    <tr style=\"text-align: right;\">\n",
              "      <th></th>\n",
              "      <th>clientid</th>\n",
              "      <th>income</th>\n",
              "      <th>age</th>\n",
              "      <th>loan</th>\n",
              "      <th>default</th>\n",
              "    </tr>\n",
              "  </thead>\n",
              "  <tbody>\n",
              "    <tr>\n",
              "      <th>15</th>\n",
              "      <td>16</td>\n",
              "      <td>50501.726689</td>\n",
              "      <td>-28.218361</td>\n",
              "      <td>3977.287432</td>\n",
              "      <td>0</td>\n",
              "    </tr>\n",
              "    <tr>\n",
              "      <th>21</th>\n",
              "      <td>22</td>\n",
              "      <td>32197.620701</td>\n",
              "      <td>-52.423280</td>\n",
              "      <td>4244.057136</td>\n",
              "      <td>0</td>\n",
              "    </tr>\n",
              "    <tr>\n",
              "      <th>26</th>\n",
              "      <td>27</td>\n",
              "      <td>63287.038908</td>\n",
              "      <td>-36.496976</td>\n",
              "      <td>9595.286289</td>\n",
              "      <td>0</td>\n",
              "    </tr>\n",
              "  </tbody>\n",
              "</table>\n",
              "</div>"
            ],
            "text/plain": [
              "    clientid        income        age         loan  default\n",
              "15        16  50501.726689 -28.218361  3977.287432        0\n",
              "21        22  32197.620701 -52.423280  4244.057136        0\n",
              "26        27  63287.038908 -36.496976  9595.286289        0"
            ]
          },
          "execution_count": 10,
          "metadata": {},
          "output_type": "execute_result"
        }
      ],
      "source": [
        "# procurando clientes com idade menor que 0\n",
        "base_credit.loc[base_credit['age'] < 0]"
      ]
    },
    {
      "cell_type": "code",
      "execution_count": null,
      "id": "2e28c1e7",
      "metadata": {
        "id": "2e28c1e7"
      },
      "outputs": [],
      "source": [
        "#preencher os valores inconsistentes manualmente\n",
        "\n",
        "# ou\n",
        "\n",
        "# preencher os valores com a media"
      ]
    },
    {
      "cell_type": "code",
      "execution_count": null,
      "id": "83d19db8",
      "metadata": {
        "id": "83d19db8",
        "outputId": "cf31ee32-cb7e-4278-bab3-3b76fa508749"
      },
      "outputs": [
        {
          "data": {
            "text/plain": [
              "clientid     1000.500000\n",
              "income      45331.600018\n",
              "age            40.807559\n",
              "loan         4444.369695\n",
              "default         0.141500\n",
              "dtype: float64"
            ]
          },
          "execution_count": 12,
          "metadata": {},
          "output_type": "execute_result"
        }
      ],
      "source": [
        "base_credit.mean()"
      ]
    },
    {
      "cell_type": "code",
      "execution_count": null,
      "id": "e82a1a7f",
      "metadata": {
        "id": "e82a1a7f",
        "outputId": "bfc64ff2-fa66-450f-dadd-fb06217b65d8"
      },
      "outputs": [
        {
          "data": {
            "text/plain": [
              "40.80755937840458"
            ]
          },
          "execution_count": 13,
          "metadata": {},
          "output_type": "execute_result"
        }
      ],
      "source": [
        "# media de idade de toda tabela (NESTA MEDIA INCLUI OS OUTLIERS, IDADES NEGATIVAS)\n",
        "base_credit['age'].mean()"
      ]
    },
    {
      "cell_type": "code",
      "execution_count": null,
      "id": "55374a31",
      "metadata": {
        "id": "55374a31",
        "outputId": "4db3acab-3bef-4450-e309-5c5e38a49eee"
      },
      "outputs": [
        {
          "data": {
            "text/plain": [
              "40.92770044906149"
            ]
          },
          "execution_count": 14,
          "metadata": {},
          "output_type": "execute_result"
        }
      ],
      "source": [
        "# media de idade sem contar com os numeros negativos (SEM IDADE NEGATIVAS)\n",
        "base_credit['age'][base_credit['age'] > 0].mean()"
      ]
    },
    {
      "cell_type": "code",
      "execution_count": null,
      "id": "696b40d8",
      "metadata": {
        "id": "696b40d8"
      },
      "outputs": [],
      "source": [
        "# ALTERANDO AS IDADES NEGATIVAS PELA MEDIA DE IDADES\n",
        "base_credit.loc[base_credit['age'] < 0, 'age'] = 40.92"
      ]
    },
    {
      "cell_type": "code",
      "execution_count": null,
      "id": "070bc016",
      "metadata": {
        "id": "070bc016",
        "outputId": "e6fdd7d7-f0ed-45c3-9f5d-3dc9059946a2"
      },
      "outputs": [
        {
          "data": {
            "text/html": [
              "<div>\n",
              "<style scoped>\n",
              "    .dataframe tbody tr th:only-of-type {\n",
              "        vertical-align: middle;\n",
              "    }\n",
              "\n",
              "    .dataframe tbody tr th {\n",
              "        vertical-align: top;\n",
              "    }\n",
              "\n",
              "    .dataframe thead th {\n",
              "        text-align: right;\n",
              "    }\n",
              "</style>\n",
              "<table border=\"1\" class=\"dataframe\">\n",
              "  <thead>\n",
              "    <tr style=\"text-align: right;\">\n",
              "      <th></th>\n",
              "      <th>clientid</th>\n",
              "      <th>income</th>\n",
              "      <th>age</th>\n",
              "      <th>loan</th>\n",
              "      <th>default</th>\n",
              "    </tr>\n",
              "  </thead>\n",
              "  <tbody>\n",
              "  </tbody>\n",
              "</table>\n",
              "</div>"
            ],
            "text/plain": [
              "Empty DataFrame\n",
              "Columns: [clientid, income, age, loan, default]\n",
              "Index: []"
            ]
          },
          "execution_count": 16,
          "metadata": {},
          "output_type": "execute_result"
        }
      ],
      "source": [
        "# CONFERINDO SE FOI ALTERADO OS OUTLIERS PELA MEDIA\n",
        "base_credit.loc[base_credit['age'] < 0]"
      ]
    },
    {
      "cell_type": "code",
      "execution_count": null,
      "id": "058469fd",
      "metadata": {
        "id": "058469fd",
        "outputId": "dd254ecf-5bc6-4b90-e20c-b86eb7862bc3"
      },
      "outputs": [
        {
          "data": {
            "text/html": [
              "<div>\n",
              "<style scoped>\n",
              "    .dataframe tbody tr th:only-of-type {\n",
              "        vertical-align: middle;\n",
              "    }\n",
              "\n",
              "    .dataframe tbody tr th {\n",
              "        vertical-align: top;\n",
              "    }\n",
              "\n",
              "    .dataframe thead th {\n",
              "        text-align: right;\n",
              "    }\n",
              "</style>\n",
              "<table border=\"1\" class=\"dataframe\">\n",
              "  <thead>\n",
              "    <tr style=\"text-align: right;\">\n",
              "      <th></th>\n",
              "      <th>clientid</th>\n",
              "      <th>income</th>\n",
              "      <th>age</th>\n",
              "      <th>loan</th>\n",
              "      <th>default</th>\n",
              "    </tr>\n",
              "  </thead>\n",
              "  <tbody>\n",
              "    <tr>\n",
              "      <th>15</th>\n",
              "      <td>16</td>\n",
              "      <td>50501.726689</td>\n",
              "      <td>40.92</td>\n",
              "      <td>3977.287432</td>\n",
              "      <td>0</td>\n",
              "    </tr>\n",
              "    <tr>\n",
              "      <th>21</th>\n",
              "      <td>22</td>\n",
              "      <td>32197.620701</td>\n",
              "      <td>40.92</td>\n",
              "      <td>4244.057136</td>\n",
              "      <td>0</td>\n",
              "    </tr>\n",
              "    <tr>\n",
              "      <th>26</th>\n",
              "      <td>27</td>\n",
              "      <td>63287.038908</td>\n",
              "      <td>40.92</td>\n",
              "      <td>9595.286289</td>\n",
              "      <td>0</td>\n",
              "    </tr>\n",
              "  </tbody>\n",
              "</table>\n",
              "</div>"
            ],
            "text/plain": [
              "    clientid        income    age         loan  default\n",
              "15        16  50501.726689  40.92  3977.287432        0\n",
              "21        22  32197.620701  40.92  4244.057136        0\n",
              "26        27  63287.038908  40.92  9595.286289        0"
            ]
          },
          "execution_count": 17,
          "metadata": {},
          "output_type": "execute_result"
        }
      ],
      "source": [
        "# conferindo se os valores incosistentes da idade foram atualizados pela media linha 15, 21, 26\n",
        "# como iremos filtrar pela coluna (clienteid) buscaremos pelas linhas 16, 22, 27\n",
        "base_credit.loc[base_credit['clientid'].isin([16, 22, 27])]"
      ]
    },
    {
      "cell_type": "markdown",
      "id": "fddad361",
      "metadata": {
        "id": "fddad361"
      },
      "source": [
        "## TRATAMENTO DE VALORES FALTANTES"
      ]
    },
    {
      "cell_type": "code",
      "execution_count": null,
      "id": "8a843429",
      "metadata": {
        "id": "8a843429",
        "outputId": "035e70b4-70ae-46f6-bb0c-1a9bd0c34b79"
      },
      "outputs": [
        {
          "data": {
            "text/plain": [
              "clientid    0\n",
              "income      0\n",
              "age         3\n",
              "loan        0\n",
              "default     0\n",
              "dtype: int64"
            ]
          },
          "execution_count": 18,
          "metadata": {},
          "output_type": "execute_result"
        }
      ],
      "source": [
        "# ALEM DAS IDADES NEGATIVAS TAMBEM TEMOS IDADES FALTANTES QUE IREMOS ALTERAR PARA MEDIA\n",
        "base_credit.isnull().sum()"
      ]
    },
    {
      "cell_type": "code",
      "execution_count": null,
      "id": "cc43243d",
      "metadata": {
        "id": "cc43243d",
        "outputId": "b612fe25-7205-4171-87d0-be77f993be74"
      },
      "outputs": [
        {
          "data": {
            "text/html": [
              "<div>\n",
              "<style scoped>\n",
              "    .dataframe tbody tr th:only-of-type {\n",
              "        vertical-align: middle;\n",
              "    }\n",
              "\n",
              "    .dataframe tbody tr th {\n",
              "        vertical-align: top;\n",
              "    }\n",
              "\n",
              "    .dataframe thead th {\n",
              "        text-align: right;\n",
              "    }\n",
              "</style>\n",
              "<table border=\"1\" class=\"dataframe\">\n",
              "  <thead>\n",
              "    <tr style=\"text-align: right;\">\n",
              "      <th></th>\n",
              "      <th>clientid</th>\n",
              "      <th>income</th>\n",
              "      <th>age</th>\n",
              "      <th>loan</th>\n",
              "      <th>default</th>\n",
              "    </tr>\n",
              "  </thead>\n",
              "  <tbody>\n",
              "    <tr>\n",
              "      <th>28</th>\n",
              "      <td>29</td>\n",
              "      <td>59417.805406</td>\n",
              "      <td>NaN</td>\n",
              "      <td>2082.625938</td>\n",
              "      <td>0</td>\n",
              "    </tr>\n",
              "    <tr>\n",
              "      <th>30</th>\n",
              "      <td>31</td>\n",
              "      <td>48528.852796</td>\n",
              "      <td>NaN</td>\n",
              "      <td>6155.784670</td>\n",
              "      <td>0</td>\n",
              "    </tr>\n",
              "    <tr>\n",
              "      <th>31</th>\n",
              "      <td>32</td>\n",
              "      <td>23526.302555</td>\n",
              "      <td>NaN</td>\n",
              "      <td>2862.010139</td>\n",
              "      <td>0</td>\n",
              "    </tr>\n",
              "  </tbody>\n",
              "</table>\n",
              "</div>"
            ],
            "text/plain": [
              "    clientid        income  age         loan  default\n",
              "28        29  59417.805406  NaN  2082.625938        0\n",
              "30        31  48528.852796  NaN  6155.784670        0\n",
              "31        32  23526.302555  NaN  2862.010139        0"
            ]
          },
          "execution_count": 19,
          "metadata": {},
          "output_type": "execute_result"
        }
      ],
      "source": [
        "# buscando idades com valores Nulos ou sem Numeração\n",
        "# precisamos fazer o preenchimentos\n",
        "base_credit.loc[pd.isnull(base_credit['age'])]"
      ]
    },
    {
      "cell_type": "code",
      "execution_count": null,
      "id": "9328d715",
      "metadata": {
        "id": "9328d715",
        "outputId": "fb0972be-1bed-4a3d-cf2e-0a5250b6d859"
      },
      "outputs": [
        {
          "data": {
            "text/html": [
              "<div>\n",
              "<style scoped>\n",
              "    .dataframe tbody tr th:only-of-type {\n",
              "        vertical-align: middle;\n",
              "    }\n",
              "\n",
              "    .dataframe tbody tr th {\n",
              "        vertical-align: top;\n",
              "    }\n",
              "\n",
              "    .dataframe thead th {\n",
              "        text-align: right;\n",
              "    }\n",
              "</style>\n",
              "<table border=\"1\" class=\"dataframe\">\n",
              "  <thead>\n",
              "    <tr style=\"text-align: right;\">\n",
              "      <th></th>\n",
              "      <th>clientid</th>\n",
              "      <th>income</th>\n",
              "      <th>age</th>\n",
              "      <th>loan</th>\n",
              "      <th>default</th>\n",
              "    </tr>\n",
              "  </thead>\n",
              "  <tbody>\n",
              "  </tbody>\n",
              "</table>\n",
              "</div>"
            ],
            "text/plain": [
              "Empty DataFrame\n",
              "Columns: [clientid, income, age, loan, default]\n",
              "Index: []"
            ]
          },
          "execution_count": 20,
          "metadata": {},
          "output_type": "execute_result"
        }
      ],
      "source": [
        "# preenchendo os valores nulos com a media\n",
        "# fill = preencher\n",
        "base_credit['age'].fillna(base_credit['age'].mean(), inplace=True)\n",
        "# buscando se ainda existe valores nulos\n",
        "base_credit.loc[pd.isnull(base_credit['age'])]"
      ]
    },
    {
      "cell_type": "code",
      "execution_count": null,
      "id": "87b3fed9",
      "metadata": {
        "id": "87b3fed9",
        "outputId": "57ef8e0f-8866-42b2-b5fe-4afccf43abac"
      },
      "outputs": [
        {
          "data": {
            "text/html": [
              "<div>\n",
              "<style scoped>\n",
              "    .dataframe tbody tr th:only-of-type {\n",
              "        vertical-align: middle;\n",
              "    }\n",
              "\n",
              "    .dataframe tbody tr th {\n",
              "        vertical-align: top;\n",
              "    }\n",
              "\n",
              "    .dataframe thead th {\n",
              "        text-align: right;\n",
              "    }\n",
              "</style>\n",
              "<table border=\"1\" class=\"dataframe\">\n",
              "  <thead>\n",
              "    <tr style=\"text-align: right;\">\n",
              "      <th></th>\n",
              "      <th>clientid</th>\n",
              "      <th>income</th>\n",
              "      <th>age</th>\n",
              "      <th>loan</th>\n",
              "      <th>default</th>\n",
              "    </tr>\n",
              "  </thead>\n",
              "  <tbody>\n",
              "    <tr>\n",
              "      <th>28</th>\n",
              "      <td>29</td>\n",
              "      <td>59417.805406</td>\n",
              "      <td>40.927689</td>\n",
              "      <td>2082.625938</td>\n",
              "      <td>0</td>\n",
              "    </tr>\n",
              "    <tr>\n",
              "      <th>30</th>\n",
              "      <td>31</td>\n",
              "      <td>48528.852796</td>\n",
              "      <td>40.927689</td>\n",
              "      <td>6155.784670</td>\n",
              "      <td>0</td>\n",
              "    </tr>\n",
              "    <tr>\n",
              "      <th>31</th>\n",
              "      <td>32</td>\n",
              "      <td>23526.302555</td>\n",
              "      <td>40.927689</td>\n",
              "      <td>2862.010139</td>\n",
              "      <td>0</td>\n",
              "    </tr>\n",
              "  </tbody>\n",
              "</table>\n",
              "</div>"
            ],
            "text/plain": [
              "    clientid        income        age         loan  default\n",
              "28        29  59417.805406  40.927689  2082.625938        0\n",
              "30        31  48528.852796  40.927689  6155.784670        0\n",
              "31        32  23526.302555  40.927689  2862.010139        0"
            ]
          },
          "execution_count": 21,
          "metadata": {},
          "output_type": "execute_result"
        }
      ],
      "source": [
        "# buscando pelo ID os valores Nulos\n",
        "# esta busca é feita para verificar a alteração - valores nulos pela media 40.92\n",
        "base_credit.loc[base_credit['clientid'].isin([29, 31, 32])]"
      ]
    },
    {
      "cell_type": "markdown",
      "id": "c62626fc",
      "metadata": {
        "id": "c62626fc"
      },
      "source": [
        "## Divisão entre previsores e classe\n"
      ]
    },
    {
      "cell_type": "code",
      "execution_count": null,
      "id": "697d1934",
      "metadata": {
        "id": "697d1934",
        "outputId": "ef35d8eb-3be7-4404-d6c5-77809df7d92c"
      },
      "outputs": [
        {
          "data": {
            "text/plain": [
              "array([[6.61559251e+04, 5.90170151e+01, 8.10653213e+03],\n",
              "       [3.44151540e+04, 4.81171531e+01, 6.56474502e+03],\n",
              "       [5.73171701e+04, 6.31080495e+01, 8.02095330e+03],\n",
              "       ...,\n",
              "       [4.43114493e+04, 2.80171669e+01, 5.52278669e+03],\n",
              "       [4.37560566e+04, 6.39717958e+01, 1.62272260e+03],\n",
              "       [6.94365796e+04, 5.61526170e+01, 7.37883360e+03]])"
            ]
          },
          "execution_count": 22,
          "metadata": {},
          "output_type": "execute_result"
        }
      ],
      "source": [
        "X_credit = base_credit.iloc[:, 1:4].values\n",
        "X_credit"
      ]
    },
    {
      "cell_type": "code",
      "execution_count": null,
      "id": "f953740c",
      "metadata": {
        "id": "f953740c",
        "outputId": "618c42e7-cb06-4049-855c-923ea675c7cc"
      },
      "outputs": [
        {
          "data": {
            "text/plain": [
              "array([0, 0, 0, ..., 1, 0, 0], dtype=int64)"
            ]
          },
          "execution_count": 23,
          "metadata": {},
          "output_type": "execute_result"
        }
      ],
      "source": [
        "y_credit = base_credit.iloc[:, 4].values\n",
        "y_credit"
      ]
    },
    {
      "cell_type": "code",
      "execution_count": null,
      "id": "708c7d5d",
      "metadata": {
        "id": "708c7d5d"
      },
      "outputs": [],
      "source": [
        "# biblioteca para diminuir as escalas\n",
        "from sklearn.preprocessing import StandardScaler\n",
        "scaler_credit = StandardScaler()\n",
        "X_credit = scaler_credit.fit_transform(X_credit)"
      ]
    },
    {
      "cell_type": "code",
      "execution_count": null,
      "id": "0c460099",
      "metadata": {
        "id": "0c460099",
        "outputId": "c548d8e7-21f5-402f-bb26-5c47e18c54a0"
      },
      "outputs": [
        {
          "data": {
            "text/plain": [
              "(-1.7676158019964077, -1.7264145408889917, -1.4592791099462408)"
            ]
          },
          "execution_count": 25,
          "metadata": {},
          "output_type": "execute_result"
        }
      ],
      "source": [
        "X_credit[:,0].min(), X_credit[:,1].min(), X_credit[:,2].min()"
      ]
    },
    {
      "cell_type": "code",
      "execution_count": null,
      "id": "ff55093f",
      "metadata": {
        "id": "ff55093f",
        "outputId": "cd9361e4-a07b-4a55-a2db-fd14314f82f6"
      },
      "outputs": [
        {
          "data": {
            "text/plain": [
              "(1.7220222385319197, 1.7393673928651967, 3.0616609141708273)"
            ]
          },
          "execution_count": 26,
          "metadata": {},
          "output_type": "execute_result"
        }
      ],
      "source": [
        "X_credit[:,0].max(), X_credit[:,1].max(), X_credit[:,2].max()"
      ]
    },
    {
      "cell_type": "markdown",
      "id": "2a5bc742",
      "metadata": {
        "id": "2a5bc742"
      },
      "source": [
        "## DIVIDINDO BASE DE TREINAMENTO E TESTE"
      ]
    },
    {
      "cell_type": "code",
      "execution_count": null,
      "id": "ac8e4e63",
      "metadata": {
        "id": "ac8e4e63"
      },
      "outputs": [],
      "source": [
        "from sklearn.model_selection import train_test_split"
      ]
    },
    {
      "cell_type": "code",
      "execution_count": null,
      "id": "ded4ac58",
      "metadata": {
        "id": "ded4ac58"
      },
      "outputs": [],
      "source": [
        "# dividindo os dados em 80% para treinamento e 20% para teste\n",
        "X_credit_treinamento, X_credit_teste, y_credit_treinamento, y_credit_teste = train_test_split\\\n",
        "    (X_credit, y_credit, test_size= 0.20, random_state = 0) "
      ]
    },
    {
      "cell_type": "code",
      "execution_count": null,
      "id": "d930b4f1",
      "metadata": {
        "id": "d930b4f1",
        "outputId": "090eba8c-7135-4bdd-84d6-b693321c282d"
      },
      "outputs": [
        {
          "data": {
            "text/plain": [
              "((1600, 3), (1600,))"
            ]
          },
          "execution_count": 29,
          "metadata": {},
          "output_type": "execute_result"
        }
      ],
      "source": [
        "X_credit_treinamento.shape, y_credit_treinamento.shape"
      ]
    },
    {
      "cell_type": "code",
      "execution_count": null,
      "id": "c1ba663b",
      "metadata": {
        "id": "c1ba663b",
        "outputId": "5558611d-1cbd-4b24-fd05-29c38c2cb78f"
      },
      "outputs": [
        {
          "data": {
            "text/plain": [
              "((400, 3), (400,))"
            ]
          },
          "execution_count": 30,
          "metadata": {},
          "output_type": "execute_result"
        }
      ],
      "source": [
        "X_credit_teste.shape, y_credit_teste.shape"
      ]
    },
    {
      "cell_type": "code",
      "execution_count": null,
      "id": "fb07090a",
      "metadata": {
        "id": "fb07090a"
      },
      "outputs": [],
      "source": []
    },
    {
      "cell_type": "markdown",
      "id": "482fe6ff",
      "metadata": {
        "id": "482fe6ff"
      },
      "source": [
        "## NAIVE BAYES RISCO DE CREDITO"
      ]
    },
    {
      "cell_type": "code",
      "execution_count": null,
      "id": "24c51008",
      "metadata": {
        "id": "24c51008"
      },
      "outputs": [],
      "source": [
        "from sklearn.metrics import accuracy_score, confusion_matrix\n",
        "# IMPORTANDO A BIBLIOTECA GAUSSIAN\n",
        "from sklearn.naive_bayes import GaussianNB"
      ]
    },
    {
      "cell_type": "code",
      "execution_count": null,
      "id": "3ddb6c3a",
      "metadata": {
        "id": "3ddb6c3a"
      },
      "outputs": [],
      "source": []
    },
    {
      "cell_type": "code",
      "execution_count": null,
      "id": "bcd07820",
      "metadata": {
        "id": "bcd07820",
        "outputId": "d6fa5df8-51e6-41e2-a94d-7ce9bbb54f5d"
      },
      "outputs": [
        {
          "data": {
            "text/plain": [
              "GaussianNB()"
            ]
          },
          "execution_count": 32,
          "metadata": {},
          "output_type": "execute_result"
        }
      ],
      "source": [
        "naive_credit_data = GaussianNB()\n",
        "naive_credit_data.fit(X_credit_treinamento, y_credit_treinamento)"
      ]
    },
    {
      "cell_type": "code",
      "execution_count": null,
      "id": "f5d81982",
      "metadata": {
        "id": "f5d81982"
      },
      "outputs": [],
      "source": [
        "previsões = naive_credit_data.predict(X_credit_teste)"
      ]
    },
    {
      "cell_type": "code",
      "execution_count": null,
      "id": "1e1631f8",
      "metadata": {
        "id": "1e1631f8",
        "outputId": "0bf47471-ad1b-413d-a1ea-a3eaa5b1f9e9"
      },
      "outputs": [
        {
          "data": {
            "text/plain": [
              "array([1, 0, 0, 0, 0, 0, 0, 0, 0, 0, 0, 0, 0, 0, 0, 0, 1, 0, 0, 1, 0, 0,\n",
              "       0, 0, 0, 0, 0, 0, 0, 0, 0, 0, 0, 0, 0, 1, 1, 0, 0, 0, 0, 0, 0, 0,\n",
              "       0, 1, 1, 0, 1, 0, 0, 0, 0, 0, 0, 0, 0, 0, 0, 1, 0, 0, 0, 1, 0, 0,\n",
              "       0, 0, 0, 1, 0, 0, 1, 0, 0, 1, 0, 0, 0, 0, 0, 0, 0, 0, 0, 0, 0, 0,\n",
              "       0, 0, 0, 0, 0, 0, 0, 0, 0, 0, 0, 0, 0, 0, 0, 1, 0, 0, 0, 0, 0, 0,\n",
              "       0, 0, 1, 0, 0, 0, 0, 0, 0, 0, 1, 1, 0, 0, 0, 0, 0, 0, 0, 0, 0, 1,\n",
              "       0, 0, 0, 0, 0, 0, 0, 0, 0, 0, 0, 0, 1, 0, 1, 0, 0, 0, 0, 0, 1, 0,\n",
              "       0, 0, 0, 0, 0, 1, 0, 0, 0, 0, 0, 0, 0, 0, 0, 0, 0, 0, 0, 0, 0, 0,\n",
              "       0, 1, 0, 0, 0, 0, 0, 1, 0, 0, 0, 0, 1, 0, 0, 0, 1, 0, 0, 0, 0, 0,\n",
              "       0, 0, 0, 0, 0, 0, 0, 0, 1, 1, 0, 0, 0, 0, 0, 0, 0, 0, 0, 0, 0, 0,\n",
              "       1, 0, 0, 0, 0, 0, 0, 0, 0, 1, 0, 0, 0, 0, 0, 0, 0, 0, 0, 0, 0, 0,\n",
              "       0, 0, 0, 0, 0, 0, 0, 0, 0, 0, 0, 0, 0, 0, 0, 0, 1, 0, 1, 0, 0, 0,\n",
              "       0, 0, 0, 0, 0, 0, 0, 0, 0, 1, 0, 0, 0, 0, 0, 0, 0, 0, 0, 0, 0, 0,\n",
              "       0, 0, 0, 0, 0, 0, 0, 0, 0, 0, 1, 0, 0, 0, 0, 0, 0, 0, 1, 0, 0, 0,\n",
              "       0, 0, 0, 1, 0, 0, 0, 1, 0, 0, 0, 0, 0, 1, 0, 0, 0, 0, 0, 1, 0, 0,\n",
              "       0, 0, 0, 0, 0, 0, 0, 0, 0, 0, 0, 0, 1, 0, 0, 0, 0, 0, 0, 1, 0, 0,\n",
              "       0, 0, 0, 1, 0, 0, 0, 0, 0, 0, 0, 0, 0, 0, 0, 0, 0, 0, 0, 0, 0, 0,\n",
              "       0, 0, 0, 0, 0, 0, 0, 0, 0, 0, 0, 0, 0, 0, 0, 0, 0, 0, 0, 0, 0, 1,\n",
              "       0, 0, 0, 0], dtype=int64)"
            ]
          },
          "execution_count": 34,
          "metadata": {},
          "output_type": "execute_result"
        }
      ],
      "source": [
        "# PREVISAO GERADA PELO ALGORITIMO\n",
        "previsões"
      ]
    },
    {
      "cell_type": "code",
      "execution_count": null,
      "id": "aaf3d0ed",
      "metadata": {
        "id": "aaf3d0ed",
        "outputId": "fa9bc76d-ec40-4e2b-aa19-425def46b495"
      },
      "outputs": [
        {
          "data": {
            "text/plain": [
              "array([1, 0, 0, 0, 0, 0, 0, 0, 0, 0, 0, 0, 0, 0, 0, 0, 1, 0, 0, 1, 0, 0,\n",
              "       0, 0, 0, 0, 0, 0, 0, 0, 0, 0, 0, 0, 0, 1, 1, 0, 0, 0, 0, 0, 0, 0,\n",
              "       0, 1, 1, 0, 1, 0, 0, 0, 0, 0, 0, 0, 0, 0, 0, 1, 0, 0, 0, 1, 0, 0,\n",
              "       0, 0, 0, 1, 0, 0, 1, 0, 0, 1, 0, 0, 1, 0, 0, 0, 0, 0, 0, 0, 1, 0,\n",
              "       0, 0, 0, 0, 0, 0, 0, 0, 0, 0, 0, 0, 0, 0, 0, 1, 0, 0, 0, 0, 0, 1,\n",
              "       0, 0, 1, 0, 0, 0, 0, 0, 0, 0, 0, 0, 0, 0, 0, 0, 0, 0, 0, 0, 0, 1,\n",
              "       0, 0, 0, 0, 0, 0, 0, 0, 0, 0, 0, 0, 1, 0, 0, 0, 0, 0, 0, 0, 1, 0,\n",
              "       0, 0, 0, 0, 0, 0, 0, 0, 0, 0, 0, 1, 0, 0, 0, 1, 0, 0, 0, 0, 0, 0,\n",
              "       0, 1, 0, 0, 0, 0, 0, 1, 0, 0, 0, 1, 1, 0, 0, 0, 1, 0, 0, 0, 0, 0,\n",
              "       0, 0, 0, 0, 0, 0, 0, 0, 1, 1, 0, 1, 0, 0, 0, 0, 0, 0, 0, 0, 0, 0,\n",
              "       1, 0, 0, 0, 0, 0, 0, 0, 0, 1, 0, 0, 0, 0, 0, 0, 0, 0, 0, 0, 0, 0,\n",
              "       0, 1, 1, 0, 1, 1, 0, 0, 0, 0, 0, 0, 0, 0, 0, 0, 1, 0, 1, 0, 0, 0,\n",
              "       0, 0, 0, 0, 0, 0, 0, 0, 0, 0, 0, 0, 0, 0, 0, 0, 0, 0, 0, 0, 0, 0,\n",
              "       0, 0, 0, 0, 0, 0, 0, 0, 0, 0, 1, 0, 0, 0, 0, 0, 0, 0, 1, 0, 0, 0,\n",
              "       0, 0, 1, 1, 0, 0, 0, 1, 0, 0, 0, 0, 0, 1, 0, 0, 0, 0, 0, 1, 0, 0,\n",
              "       0, 0, 0, 0, 0, 1, 0, 0, 0, 0, 0, 0, 1, 0, 0, 0, 0, 0, 0, 1, 0, 0,\n",
              "       0, 0, 0, 1, 0, 0, 0, 0, 0, 0, 0, 0, 0, 0, 0, 0, 0, 0, 0, 0, 0, 0,\n",
              "       0, 0, 0, 0, 1, 0, 0, 0, 0, 0, 0, 0, 1, 0, 0, 0, 0, 0, 0, 0, 0, 0,\n",
              "       0, 0, 0, 0], dtype=int64)"
            ]
          },
          "execution_count": 35,
          "metadata": {},
          "output_type": "execute_result"
        }
      ],
      "source": [
        "# NOSSA TABELA DE DADOS REAL, QUE IREMOS CONFIRIR COM AS PREVIÇÕES ACIMA\n",
        "# IREMOS CONFERIR A RESPOSTA REAL COM AS PREVIÇÕES A CIMA\n",
        "y_credit_teste"
      ]
    },
    {
      "cell_type": "code",
      "execution_count": null,
      "id": "0c58152d",
      "metadata": {
        "id": "0c58152d",
        "outputId": "498bbb5f-0b34-4de3-de3d-7ea9b65ec39e"
      },
      "outputs": [
        {
          "data": {
            "text/plain": [
              "0.9475"
            ]
          },
          "execution_count": 46,
          "metadata": {},
          "output_type": "execute_result"
        }
      ],
      "source": [
        "# importando a biblioteca para saber o nivel de acertividade\n",
        "from sklearn.metrics import accuracy_score, confusion_matrix, classification_report\n",
        "\n",
        "# nivel de acertividade do algoritimo \n",
        "# 94,75% de acertividade\n",
        "accuracy_score(y_credit_teste, previsões)"
      ]
    },
    {
      "cell_type": "code",
      "execution_count": null,
      "id": "610f8960",
      "metadata": {
        "id": "610f8960",
        "outputId": "9d85897f-05ee-4c3e-d154-197089e461dc"
      },
      "outputs": [
        {
          "data": {
            "text/plain": [
              "array([[342,   6],\n",
              "       [ 15,  37]], dtype=int64)"
            ]
          },
          "execution_count": 38,
          "metadata": {},
          "output_type": "execute_result"
        }
      ],
      "source": [
        "confusion_matrix(y_credit_teste, previsões)"
      ]
    },
    {
      "cell_type": "code",
      "execution_count": null,
      "id": "2e784ef8",
      "metadata": {
        "id": "2e784ef8",
        "outputId": "5fa91d2d-5270-42d1-ac1e-6795e0ae0611"
      },
      "outputs": [
        {
          "name": "stdout",
          "output_type": "stream",
          "text": [
            "              precision    recall  f1-score   support\n",
            "\n",
            "           0       0.96      0.98      0.97       348\n",
            "           1       0.86      0.71      0.78        52\n",
            "\n",
            "    accuracy                           0.95       400\n",
            "   macro avg       0.91      0.85      0.87       400\n",
            "weighted avg       0.95      0.95      0.95       400\n",
            "\n"
          ]
        }
      ],
      "source": [
        "\n",
        "print(classification_report(y_credit_teste, previsões))"
      ]
    },
    {
      "cell_type": "code",
      "execution_count": null,
      "id": "2af4558d",
      "metadata": {
        "id": "2af4558d"
      },
      "outputs": [],
      "source": []
    },
    {
      "cell_type": "markdown",
      "id": "eba4a7d1",
      "metadata": {
        "id": "eba4a7d1"
      },
      "source": [
        "## NAIVE BAYES RISCO DE CREDITO CATEGORICO"
      ]
    },
    {
      "cell_type": "code",
      "execution_count": null,
      "id": "87fc5770",
      "metadata": {
        "id": "87fc5770"
      },
      "outputs": [],
      "source": [
        "# IMPORTANDO A BIBLIOTECA GAUSSIAN\n",
        "from sklearn.naive_bayes import GaussianNB"
      ]
    },
    {
      "cell_type": "code",
      "execution_count": null,
      "id": "f10bf04a",
      "metadata": {
        "id": "f10bf04a"
      },
      "outputs": [],
      "source": [
        "from sklearn.metrics import accuracy_score, confusion_matrix"
      ]
    },
    {
      "cell_type": "code",
      "execution_count": null,
      "id": "cecc228d",
      "metadata": {
        "id": "cecc228d",
        "outputId": "9898a227-ef78-47dc-de76-d155afacda95"
      },
      "outputs": [
        {
          "data": {
            "text/html": [
              "<div>\n",
              "<style scoped>\n",
              "    .dataframe tbody tr th:only-of-type {\n",
              "        vertical-align: middle;\n",
              "    }\n",
              "\n",
              "    .dataframe tbody tr th {\n",
              "        vertical-align: top;\n",
              "    }\n",
              "\n",
              "    .dataframe thead th {\n",
              "        text-align: right;\n",
              "    }\n",
              "</style>\n",
              "<table border=\"1\" class=\"dataframe\">\n",
              "  <thead>\n",
              "    <tr style=\"text-align: right;\">\n",
              "      <th></th>\n",
              "      <th>historia</th>\n",
              "      <th>divida</th>\n",
              "      <th>garantias</th>\n",
              "      <th>renda</th>\n",
              "      <th>risco</th>\n",
              "    </tr>\n",
              "  </thead>\n",
              "  <tbody>\n",
              "    <tr>\n",
              "      <th>0</th>\n",
              "      <td>ruim</td>\n",
              "      <td>alta</td>\n",
              "      <td>nenhuma</td>\n",
              "      <td>0_15</td>\n",
              "      <td>alto</td>\n",
              "    </tr>\n",
              "    <tr>\n",
              "      <th>1</th>\n",
              "      <td>desconhecida</td>\n",
              "      <td>alta</td>\n",
              "      <td>nenhuma</td>\n",
              "      <td>15_35</td>\n",
              "      <td>alto</td>\n",
              "    </tr>\n",
              "    <tr>\n",
              "      <th>2</th>\n",
              "      <td>desconhecida</td>\n",
              "      <td>baixa</td>\n",
              "      <td>nenhuma</td>\n",
              "      <td>15_35</td>\n",
              "      <td>moderado</td>\n",
              "    </tr>\n",
              "    <tr>\n",
              "      <th>3</th>\n",
              "      <td>desconhecida</td>\n",
              "      <td>baixa</td>\n",
              "      <td>nenhuma</td>\n",
              "      <td>acima_35</td>\n",
              "      <td>alto</td>\n",
              "    </tr>\n",
              "    <tr>\n",
              "      <th>4</th>\n",
              "      <td>desconhecida</td>\n",
              "      <td>baixa</td>\n",
              "      <td>nenhuma</td>\n",
              "      <td>acima_35</td>\n",
              "      <td>baixo</td>\n",
              "    </tr>\n",
              "    <tr>\n",
              "      <th>5</th>\n",
              "      <td>desconhecida</td>\n",
              "      <td>baixa</td>\n",
              "      <td>adequada</td>\n",
              "      <td>acima_35</td>\n",
              "      <td>baixo</td>\n",
              "    </tr>\n",
              "    <tr>\n",
              "      <th>6</th>\n",
              "      <td>ruim</td>\n",
              "      <td>baixa</td>\n",
              "      <td>nenhuma</td>\n",
              "      <td>0_15</td>\n",
              "      <td>alto</td>\n",
              "    </tr>\n",
              "    <tr>\n",
              "      <th>7</th>\n",
              "      <td>ruim</td>\n",
              "      <td>baixa</td>\n",
              "      <td>adequada</td>\n",
              "      <td>acima_35</td>\n",
              "      <td>moderado</td>\n",
              "    </tr>\n",
              "    <tr>\n",
              "      <th>8</th>\n",
              "      <td>boa</td>\n",
              "      <td>baixa</td>\n",
              "      <td>nenhuma</td>\n",
              "      <td>acima_35</td>\n",
              "      <td>baixo</td>\n",
              "    </tr>\n",
              "    <tr>\n",
              "      <th>9</th>\n",
              "      <td>boa</td>\n",
              "      <td>alta</td>\n",
              "      <td>adequada</td>\n",
              "      <td>acima_35</td>\n",
              "      <td>baixo</td>\n",
              "    </tr>\n",
              "    <tr>\n",
              "      <th>10</th>\n",
              "      <td>boa</td>\n",
              "      <td>alta</td>\n",
              "      <td>nenhuma</td>\n",
              "      <td>0_15</td>\n",
              "      <td>alto</td>\n",
              "    </tr>\n",
              "    <tr>\n",
              "      <th>11</th>\n",
              "      <td>boa</td>\n",
              "      <td>alta</td>\n",
              "      <td>nenhuma</td>\n",
              "      <td>15_35</td>\n",
              "      <td>moderado</td>\n",
              "    </tr>\n",
              "    <tr>\n",
              "      <th>12</th>\n",
              "      <td>boa</td>\n",
              "      <td>alta</td>\n",
              "      <td>nenhuma</td>\n",
              "      <td>acima_35</td>\n",
              "      <td>baixo</td>\n",
              "    </tr>\n",
              "    <tr>\n",
              "      <th>13</th>\n",
              "      <td>ruim</td>\n",
              "      <td>alta</td>\n",
              "      <td>nenhuma</td>\n",
              "      <td>15_35</td>\n",
              "      <td>alto</td>\n",
              "    </tr>\n",
              "  </tbody>\n",
              "</table>\n",
              "</div>"
            ],
            "text/plain": [
              "        historia divida garantias     renda     risco\n",
              "0           ruim   alta   nenhuma      0_15      alto\n",
              "1   desconhecida   alta   nenhuma     15_35      alto\n",
              "2   desconhecida  baixa   nenhuma     15_35  moderado\n",
              "3   desconhecida  baixa   nenhuma  acima_35      alto\n",
              "4   desconhecida  baixa   nenhuma  acima_35     baixo\n",
              "5   desconhecida  baixa  adequada  acima_35     baixo\n",
              "6           ruim  baixa   nenhuma      0_15      alto\n",
              "7           ruim  baixa  adequada  acima_35  moderado\n",
              "8            boa  baixa   nenhuma  acima_35     baixo\n",
              "9            boa   alta  adequada  acima_35     baixo\n",
              "10           boa   alta   nenhuma      0_15      alto\n",
              "11           boa   alta   nenhuma     15_35  moderado\n",
              "12           boa   alta   nenhuma  acima_35     baixo\n",
              "13          ruim   alta   nenhuma     15_35      alto"
            ]
          },
          "execution_count": 64,
          "metadata": {},
          "output_type": "execute_result"
        }
      ],
      "source": [
        "# BASE DE DADOS DE RISCO DE CREDITO\n",
        "base_risco_credito = pd.read_csv('risco_credito.csv')\n",
        "base_risco_credito"
      ]
    },
    {
      "cell_type": "code",
      "execution_count": null,
      "id": "c160f39d",
      "metadata": {
        "id": "c160f39d",
        "outputId": "bab1a4da-b9a6-4332-aac8-cdae7d186137"
      },
      "outputs": [
        {
          "data": {
            "text/plain": [
              "14"
            ]
          },
          "execution_count": 51,
          "metadata": {},
          "output_type": "execute_result"
        }
      ],
      "source": [
        "len(base_risco_credito)"
      ]
    },
    {
      "cell_type": "code",
      "execution_count": null,
      "id": "f6d17b98",
      "metadata": {
        "id": "f6d17b98",
        "outputId": "82c585e6-3ec2-47a5-c574-333b3758aa11"
      },
      "outputs": [
        {
          "data": {
            "text/plain": [
              "array([['ruim', 'alta', 'nenhuma', '0_15'],\n",
              "       ['desconhecida', 'alta', 'nenhuma', '15_35'],\n",
              "       ['desconhecida', 'baixa', 'nenhuma', '15_35'],\n",
              "       ['desconhecida', 'baixa', 'nenhuma', 'acima_35'],\n",
              "       ['desconhecida', 'baixa', 'nenhuma', 'acima_35'],\n",
              "       ['desconhecida', 'baixa', 'adequada', 'acima_35'],\n",
              "       ['ruim', 'baixa', 'nenhuma', '0_15'],\n",
              "       ['ruim', 'baixa', 'adequada', 'acima_35'],\n",
              "       ['boa', 'baixa', 'nenhuma', 'acima_35'],\n",
              "       ['boa', 'alta', 'adequada', 'acima_35'],\n",
              "       ['boa', 'alta', 'nenhuma', '0_15'],\n",
              "       ['boa', 'alta', 'nenhuma', '15_35'],\n",
              "       ['boa', 'alta', 'nenhuma', 'acima_35'],\n",
              "       ['ruim', 'alta', 'nenhuma', '15_35']], dtype=object)"
            ]
          },
          "execution_count": 52,
          "metadata": {},
          "output_type": "execute_result"
        }
      ],
      "source": [
        "# CRIANDO A VARIAVEL X COM OS DADOS CATEGORICOS\n",
        "# DIVIDINDO AS COLUNAS\n",
        "# UTILIZANDO AS COLUNAS 0,1,2,3\n",
        "X_risco_credito = base_risco_credito.iloc[:, 0:4].values\n",
        "X_risco_credito"
      ]
    },
    {
      "cell_type": "code",
      "execution_count": null,
      "id": "26e744d3",
      "metadata": {
        "id": "26e744d3",
        "outputId": "51193426-50ad-46f6-ee5d-cae7bfe5ace1"
      },
      "outputs": [
        {
          "data": {
            "text/plain": [
              "array(['alto', 'alto', 'moderado', 'alto', 'baixo', 'baixo', 'alto',\n",
              "       'moderado', 'baixo', 'baixo', 'alto', 'moderado', 'baixo', 'alto'],\n",
              "      dtype=object)"
            ]
          },
          "execution_count": 53,
          "metadata": {},
          "output_type": "execute_result"
        }
      ],
      "source": [
        "# CRIANDO MINHAs VARIAVEIS Y COM A CATEGORIA RISCO\n",
        "# UTILIZANDO APENAS A COLUNA 4\n",
        "y_risco_credito = base_risco_credito.iloc[:, 4].values\n",
        "y_risco_credito"
      ]
    },
    {
      "cell_type": "code",
      "execution_count": null,
      "id": "3ac3ddbc",
      "metadata": {
        "id": "3ac3ddbc"
      },
      "outputs": [],
      "source": [
        "from sklearn.preprocessing import LabelEncoder\n",
        "label_encoder_historia = LabelEncoder()\n",
        "label_encoder_divida = LabelEncoder()\n",
        "label_encoder_garantia = LabelEncoder()\n",
        "label_encoder_renda = LabelEncoder()"
      ]
    },
    {
      "cell_type": "code",
      "execution_count": null,
      "id": "d9d72f08",
      "metadata": {
        "id": "d9d72f08"
      },
      "outputs": [],
      "source": [
        "X_risco_credito[:, 0] = label_encoder_historia.fit_transform(X_risco_credito[:, 0])\n",
        "X_risco_credito[:, 1] = label_encoder_divida.fit_transform(X_risco_credito[:, 1])\n",
        "X_risco_credito[:, 2] = label_encoder_garantia.fit_transform(X_risco_credito[:, 2])\n",
        "X_risco_credito[:, 3] = label_encoder_renda.fit_transform(X_risco_credito[:, 3])"
      ]
    },
    {
      "cell_type": "code",
      "execution_count": null,
      "id": "fa927ac8",
      "metadata": {
        "id": "fa927ac8",
        "outputId": "f790c3d4-e61a-4f83-e15d-4717d92491c0"
      },
      "outputs": [
        {
          "data": {
            "text/plain": [
              "array([[2, 0, 1, 0],\n",
              "       [1, 0, 1, 1],\n",
              "       [1, 1, 1, 1],\n",
              "       [1, 1, 1, 2],\n",
              "       [1, 1, 1, 2],\n",
              "       [1, 1, 0, 2],\n",
              "       [2, 1, 1, 0],\n",
              "       [2, 1, 0, 2],\n",
              "       [0, 1, 1, 2],\n",
              "       [0, 0, 0, 2],\n",
              "       [0, 0, 1, 0],\n",
              "       [0, 0, 1, 1],\n",
              "       [0, 0, 1, 2],\n",
              "       [2, 0, 1, 1]], dtype=object)"
            ]
          },
          "execution_count": 56,
          "metadata": {},
          "output_type": "execute_result"
        }
      ],
      "source": [
        "X_risco_credito"
      ]
    },
    {
      "cell_type": "code",
      "execution_count": null,
      "id": "c3b56eaa",
      "metadata": {
        "id": "c3b56eaa",
        "outputId": "2a55baad-c09c-480e-a497-ff731ff8a7d7"
      },
      "outputs": [
        {
          "data": {
            "text/plain": [
              "GaussianNB()"
            ]
          },
          "execution_count": 57,
          "metadata": {},
          "output_type": "execute_result"
        }
      ],
      "source": [
        "# CRIANDO ALGORITIMO NAYVE BAYES PARA TREINAMENTO\n",
        "# FIT = ENCAIXADO\n",
        "# ESSE CODIGO GERARA A TABELA DE PROBABILIDADE\n",
        "naive_risco_credito = GaussianNB()\n",
        "naive_risco_credito.fit(X_risco_credito, y_risco_credito)"
      ]
    },
    {
      "cell_type": "code",
      "execution_count": null,
      "id": "6ec9ea7a",
      "metadata": {
        "id": "6ec9ea7a"
      },
      "outputs": [],
      "source": [
        "# TREINAMENTO MANUAL\n",
        "\n",
        "# historia boa(0), divida alta(0), garantia nenhuma(1), renda > 35 (2)\n",
        "# historia ruim(2), divida alta(0), garantias adequada (0), renda < 15 (0)\n",
        "# historia desconhecida (1), divida alta(0), garantias nenhuma (1), renda entre 15 a 35 (1)\n",
        "# historia ruim(2), divida baixa(1), garantias adequada (0), renda > 35 (2)"
      ]
    },
    {
      "cell_type": "code",
      "execution_count": null,
      "id": "f976cd0f",
      "metadata": {
        "id": "f976cd0f",
        "outputId": "e6bdf8b6-e5b0-46d9-f7f8-a9b14a8eb9c1"
      },
      "outputs": [
        {
          "data": {
            "text/plain": [
              "array(['baixo'], dtype='<U8')"
            ]
          },
          "execution_count": 60,
          "metadata": {},
          "output_type": "execute_result"
        }
      ],
      "source": [
        "previsao1 = naive_risco_credito.predict([[0,0,1,2]])\n",
        "previsao1"
      ]
    },
    {
      "cell_type": "code",
      "execution_count": null,
      "id": "4fdb117e",
      "metadata": {
        "id": "4fdb117e",
        "outputId": "1ccc4f94-41c3-4ff6-b4e6-9dcd21ba0f7a"
      },
      "outputs": [
        {
          "data": {
            "text/plain": [
              "array(['moderado'], dtype='<U8')"
            ]
          },
          "execution_count": 61,
          "metadata": {},
          "output_type": "execute_result"
        }
      ],
      "source": [
        "previsao2 = naive_risco_credito.predict([[2,0,0,0]])\n",
        "previsao2"
      ]
    },
    {
      "cell_type": "code",
      "execution_count": null,
      "id": "3b28d6f2",
      "metadata": {
        "id": "3b28d6f2",
        "outputId": "6cfcce06-4ab1-4ee0-91eb-f382f68a367c"
      },
      "outputs": [
        {
          "data": {
            "text/plain": [
              "array(['alto'], dtype='<U8')"
            ]
          },
          "execution_count": 66,
          "metadata": {},
          "output_type": "execute_result"
        }
      ],
      "source": [
        "previsao3 = naive_risco_credito.predict([[1,0,1,1]])\n",
        "previsao3"
      ]
    },
    {
      "cell_type": "code",
      "execution_count": null,
      "id": "0aea7860",
      "metadata": {
        "id": "0aea7860",
        "outputId": "17f8c560-d705-41b2-bfd2-0ab9c9c7b997"
      },
      "outputs": [
        {
          "data": {
            "text/plain": [
              "array(['baixo'], dtype='<U8')"
            ]
          },
          "execution_count": 63,
          "metadata": {},
          "output_type": "execute_result"
        }
      ],
      "source": [
        "previsao4 = naive_risco_credito.predict([[2,1,0,2]])\n",
        "previsao4"
      ]
    },
    {
      "cell_type": "code",
      "execution_count": null,
      "id": "e9134444",
      "metadata": {
        "id": "e9134444",
        "outputId": "c8849f30-934e-4232-b144-4006b8270a3f"
      },
      "outputs": [
        {
          "data": {
            "text/plain": [
              "array(['moderado'], dtype='<U8')"
            ]
          },
          "execution_count": 67,
          "metadata": {},
          "output_type": "execute_result"
        }
      ],
      "source": [
        "previsao5 = naive_risco_credito.predict([[0,1,0,0]])\n",
        "previsao5"
      ]
    }
  ],
  "metadata": {
    "kernelspec": {
      "display_name": "Python 3 (ipykernel)",
      "language": "python",
      "name": "python3"
    },
    "language_info": {
      "codemirror_mode": {
        "name": "ipython",
        "version": 3
      },
      "file_extension": ".py",
      "mimetype": "text/x-python",
      "name": "python",
      "nbconvert_exporter": "python",
      "pygments_lexer": "ipython3",
      "version": "3.9.7"
    },
    "colab": {
      "provenance": [],
      "include_colab_link": true
    }
  },
  "nbformat": 4,
  "nbformat_minor": 5
}